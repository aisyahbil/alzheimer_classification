{
  "nbformat": 4,
  "nbformat_minor": 0,
  "metadata": {
    "colab": {
      "provenance": [],
      "gpuType": "T4",
      "mount_file_id": "1sYrS0mQlYWne0_5JBdBIB3ALj2GbdETw",
      "authorship_tag": "ABX9TyO81nndLDAn7p0qV0eqs8Fs",
      "include_colab_link": true
    },
    "kernelspec": {
      "name": "python3",
      "display_name": "Python 3"
    },
    "language_info": {
      "name": "python"
    },
    "accelerator": "GPU",
    "widgets": {
      "application/vnd.jupyter.widget-state+json": {
        "05c88a25efcd4d8f94ee79857721c2c3": {
          "model_module": "@jupyter-widgets/controls",
          "model_name": "HBoxModel",
          "model_module_version": "1.5.0",
          "state": {
            "_dom_classes": [],
            "_model_module": "@jupyter-widgets/controls",
            "_model_module_version": "1.5.0",
            "_model_name": "HBoxModel",
            "_view_count": null,
            "_view_module": "@jupyter-widgets/controls",
            "_view_module_version": "1.5.0",
            "_view_name": "HBoxView",
            "box_style": "",
            "children": [
              "IPY_MODEL_d18745e50e474836a1e16f30406ed8f0",
              "IPY_MODEL_bd8efaa7a6b24006bdcc2b14512f09b1",
              "IPY_MODEL_237c1659c3754d11aae5a6fdb192f8cf"
            ],
            "layout": "IPY_MODEL_fa6eee6116b140ed8e8a87da56ffae92"
          }
        },
        "d18745e50e474836a1e16f30406ed8f0": {
          "model_module": "@jupyter-widgets/controls",
          "model_name": "HTMLModel",
          "model_module_version": "1.5.0",
          "state": {
            "_dom_classes": [],
            "_model_module": "@jupyter-widgets/controls",
            "_model_module_version": "1.5.0",
            "_model_name": "HTMLModel",
            "_view_count": null,
            "_view_module": "@jupyter-widgets/controls",
            "_view_module_version": "1.5.0",
            "_view_name": "HTMLView",
            "description": "",
            "description_tooltip": null,
            "layout": "IPY_MODEL_4ad845571108470eb155dffe0c7c26c4",
            "placeholder": "​",
            "style": "IPY_MODEL_6911b191fb014b69afab4c2d5ef77fcb",
            "value": "Downloading readme: 100%"
          }
        },
        "bd8efaa7a6b24006bdcc2b14512f09b1": {
          "model_module": "@jupyter-widgets/controls",
          "model_name": "FloatProgressModel",
          "model_module_version": "1.5.0",
          "state": {
            "_dom_classes": [],
            "_model_module": "@jupyter-widgets/controls",
            "_model_module_version": "1.5.0",
            "_model_name": "FloatProgressModel",
            "_view_count": null,
            "_view_module": "@jupyter-widgets/controls",
            "_view_module_version": "1.5.0",
            "_view_name": "ProgressView",
            "bar_style": "success",
            "description": "",
            "description_tooltip": null,
            "layout": "IPY_MODEL_03ea0680cb2c4650bc8908d37ae26f55",
            "max": 2130,
            "min": 0,
            "orientation": "horizontal",
            "style": "IPY_MODEL_def6233139e543feb0f3e354dce127be",
            "value": 2130
          }
        },
        "237c1659c3754d11aae5a6fdb192f8cf": {
          "model_module": "@jupyter-widgets/controls",
          "model_name": "HTMLModel",
          "model_module_version": "1.5.0",
          "state": {
            "_dom_classes": [],
            "_model_module": "@jupyter-widgets/controls",
            "_model_module_version": "1.5.0",
            "_model_name": "HTMLModel",
            "_view_count": null,
            "_view_module": "@jupyter-widgets/controls",
            "_view_module_version": "1.5.0",
            "_view_name": "HTMLView",
            "description": "",
            "description_tooltip": null,
            "layout": "IPY_MODEL_7451ee79d0b24e478e35e8883781d9aa",
            "placeholder": "​",
            "style": "IPY_MODEL_15771918a04c40438993451037df562a",
            "value": " 2.13k/2.13k [00:00&lt;00:00, 49.1kB/s]"
          }
        },
        "fa6eee6116b140ed8e8a87da56ffae92": {
          "model_module": "@jupyter-widgets/base",
          "model_name": "LayoutModel",
          "model_module_version": "1.2.0",
          "state": {
            "_model_module": "@jupyter-widgets/base",
            "_model_module_version": "1.2.0",
            "_model_name": "LayoutModel",
            "_view_count": null,
            "_view_module": "@jupyter-widgets/base",
            "_view_module_version": "1.2.0",
            "_view_name": "LayoutView",
            "align_content": null,
            "align_items": null,
            "align_self": null,
            "border": null,
            "bottom": null,
            "display": null,
            "flex": null,
            "flex_flow": null,
            "grid_area": null,
            "grid_auto_columns": null,
            "grid_auto_flow": null,
            "grid_auto_rows": null,
            "grid_column": null,
            "grid_gap": null,
            "grid_row": null,
            "grid_template_areas": null,
            "grid_template_columns": null,
            "grid_template_rows": null,
            "height": null,
            "justify_content": null,
            "justify_items": null,
            "left": null,
            "margin": null,
            "max_height": null,
            "max_width": null,
            "min_height": null,
            "min_width": null,
            "object_fit": null,
            "object_position": null,
            "order": null,
            "overflow": null,
            "overflow_x": null,
            "overflow_y": null,
            "padding": null,
            "right": null,
            "top": null,
            "visibility": null,
            "width": null
          }
        },
        "4ad845571108470eb155dffe0c7c26c4": {
          "model_module": "@jupyter-widgets/base",
          "model_name": "LayoutModel",
          "model_module_version": "1.2.0",
          "state": {
            "_model_module": "@jupyter-widgets/base",
            "_model_module_version": "1.2.0",
            "_model_name": "LayoutModel",
            "_view_count": null,
            "_view_module": "@jupyter-widgets/base",
            "_view_module_version": "1.2.0",
            "_view_name": "LayoutView",
            "align_content": null,
            "align_items": null,
            "align_self": null,
            "border": null,
            "bottom": null,
            "display": null,
            "flex": null,
            "flex_flow": null,
            "grid_area": null,
            "grid_auto_columns": null,
            "grid_auto_flow": null,
            "grid_auto_rows": null,
            "grid_column": null,
            "grid_gap": null,
            "grid_row": null,
            "grid_template_areas": null,
            "grid_template_columns": null,
            "grid_template_rows": null,
            "height": null,
            "justify_content": null,
            "justify_items": null,
            "left": null,
            "margin": null,
            "max_height": null,
            "max_width": null,
            "min_height": null,
            "min_width": null,
            "object_fit": null,
            "object_position": null,
            "order": null,
            "overflow": null,
            "overflow_x": null,
            "overflow_y": null,
            "padding": null,
            "right": null,
            "top": null,
            "visibility": null,
            "width": null
          }
        },
        "6911b191fb014b69afab4c2d5ef77fcb": {
          "model_module": "@jupyter-widgets/controls",
          "model_name": "DescriptionStyleModel",
          "model_module_version": "1.5.0",
          "state": {
            "_model_module": "@jupyter-widgets/controls",
            "_model_module_version": "1.5.0",
            "_model_name": "DescriptionStyleModel",
            "_view_count": null,
            "_view_module": "@jupyter-widgets/base",
            "_view_module_version": "1.2.0",
            "_view_name": "StyleView",
            "description_width": ""
          }
        },
        "03ea0680cb2c4650bc8908d37ae26f55": {
          "model_module": "@jupyter-widgets/base",
          "model_name": "LayoutModel",
          "model_module_version": "1.2.0",
          "state": {
            "_model_module": "@jupyter-widgets/base",
            "_model_module_version": "1.2.0",
            "_model_name": "LayoutModel",
            "_view_count": null,
            "_view_module": "@jupyter-widgets/base",
            "_view_module_version": "1.2.0",
            "_view_name": "LayoutView",
            "align_content": null,
            "align_items": null,
            "align_self": null,
            "border": null,
            "bottom": null,
            "display": null,
            "flex": null,
            "flex_flow": null,
            "grid_area": null,
            "grid_auto_columns": null,
            "grid_auto_flow": null,
            "grid_auto_rows": null,
            "grid_column": null,
            "grid_gap": null,
            "grid_row": null,
            "grid_template_areas": null,
            "grid_template_columns": null,
            "grid_template_rows": null,
            "height": null,
            "justify_content": null,
            "justify_items": null,
            "left": null,
            "margin": null,
            "max_height": null,
            "max_width": null,
            "min_height": null,
            "min_width": null,
            "object_fit": null,
            "object_position": null,
            "order": null,
            "overflow": null,
            "overflow_x": null,
            "overflow_y": null,
            "padding": null,
            "right": null,
            "top": null,
            "visibility": null,
            "width": null
          }
        },
        "def6233139e543feb0f3e354dce127be": {
          "model_module": "@jupyter-widgets/controls",
          "model_name": "ProgressStyleModel",
          "model_module_version": "1.5.0",
          "state": {
            "_model_module": "@jupyter-widgets/controls",
            "_model_module_version": "1.5.0",
            "_model_name": "ProgressStyleModel",
            "_view_count": null,
            "_view_module": "@jupyter-widgets/base",
            "_view_module_version": "1.2.0",
            "_view_name": "StyleView",
            "bar_color": null,
            "description_width": ""
          }
        },
        "7451ee79d0b24e478e35e8883781d9aa": {
          "model_module": "@jupyter-widgets/base",
          "model_name": "LayoutModel",
          "model_module_version": "1.2.0",
          "state": {
            "_model_module": "@jupyter-widgets/base",
            "_model_module_version": "1.2.0",
            "_model_name": "LayoutModel",
            "_view_count": null,
            "_view_module": "@jupyter-widgets/base",
            "_view_module_version": "1.2.0",
            "_view_name": "LayoutView",
            "align_content": null,
            "align_items": null,
            "align_self": null,
            "border": null,
            "bottom": null,
            "display": null,
            "flex": null,
            "flex_flow": null,
            "grid_area": null,
            "grid_auto_columns": null,
            "grid_auto_flow": null,
            "grid_auto_rows": null,
            "grid_column": null,
            "grid_gap": null,
            "grid_row": null,
            "grid_template_areas": null,
            "grid_template_columns": null,
            "grid_template_rows": null,
            "height": null,
            "justify_content": null,
            "justify_items": null,
            "left": null,
            "margin": null,
            "max_height": null,
            "max_width": null,
            "min_height": null,
            "min_width": null,
            "object_fit": null,
            "object_position": null,
            "order": null,
            "overflow": null,
            "overflow_x": null,
            "overflow_y": null,
            "padding": null,
            "right": null,
            "top": null,
            "visibility": null,
            "width": null
          }
        },
        "15771918a04c40438993451037df562a": {
          "model_module": "@jupyter-widgets/controls",
          "model_name": "DescriptionStyleModel",
          "model_module_version": "1.5.0",
          "state": {
            "_model_module": "@jupyter-widgets/controls",
            "_model_module_version": "1.5.0",
            "_model_name": "DescriptionStyleModel",
            "_view_count": null,
            "_view_module": "@jupyter-widgets/base",
            "_view_module_version": "1.2.0",
            "_view_name": "StyleView",
            "description_width": ""
          }
        },
        "20de2887734a47be88aa2d7aa78e34ff": {
          "model_module": "@jupyter-widgets/controls",
          "model_name": "HBoxModel",
          "model_module_version": "1.5.0",
          "state": {
            "_dom_classes": [],
            "_model_module": "@jupyter-widgets/controls",
            "_model_module_version": "1.5.0",
            "_model_name": "HBoxModel",
            "_view_count": null,
            "_view_module": "@jupyter-widgets/controls",
            "_view_module_version": "1.5.0",
            "_view_name": "HBoxView",
            "box_style": "",
            "children": [
              "IPY_MODEL_1fe496f50cfb476b8ed40c69ff4879ef",
              "IPY_MODEL_ce33dedf8c99421a8fd4482fc5a0da30",
              "IPY_MODEL_662d7d994c624fc480fdbaeb2f207621"
            ],
            "layout": "IPY_MODEL_441317128c8e4816b05520028ee28d79"
          }
        },
        "1fe496f50cfb476b8ed40c69ff4879ef": {
          "model_module": "@jupyter-widgets/controls",
          "model_name": "HTMLModel",
          "model_module_version": "1.5.0",
          "state": {
            "_dom_classes": [],
            "_model_module": "@jupyter-widgets/controls",
            "_model_module_version": "1.5.0",
            "_model_name": "HTMLModel",
            "_view_count": null,
            "_view_module": "@jupyter-widgets/controls",
            "_view_module_version": "1.5.0",
            "_view_name": "HTMLView",
            "description": "",
            "description_tooltip": null,
            "layout": "IPY_MODEL_ecdcbc8591f5403e8026d2c89791a337",
            "placeholder": "​",
            "style": "IPY_MODEL_f2fd373510854b33926fdc4bc611a811",
            "value": "Downloading data: 100%"
          }
        },
        "ce33dedf8c99421a8fd4482fc5a0da30": {
          "model_module": "@jupyter-widgets/controls",
          "model_name": "FloatProgressModel",
          "model_module_version": "1.5.0",
          "state": {
            "_dom_classes": [],
            "_model_module": "@jupyter-widgets/controls",
            "_model_module_version": "1.5.0",
            "_model_name": "FloatProgressModel",
            "_view_count": null,
            "_view_module": "@jupyter-widgets/controls",
            "_view_module_version": "1.5.0",
            "_view_name": "ProgressView",
            "bar_style": "success",
            "description": "",
            "description_tooltip": null,
            "layout": "IPY_MODEL_604b36b3f7fb4e17bba96f1c564ad918",
            "max": 22643887,
            "min": 0,
            "orientation": "horizontal",
            "style": "IPY_MODEL_f7ba753ee86d45ada2ae4d144ca95df0",
            "value": 22643887
          }
        },
        "662d7d994c624fc480fdbaeb2f207621": {
          "model_module": "@jupyter-widgets/controls",
          "model_name": "HTMLModel",
          "model_module_version": "1.5.0",
          "state": {
            "_dom_classes": [],
            "_model_module": "@jupyter-widgets/controls",
            "_model_module_version": "1.5.0",
            "_model_name": "HTMLModel",
            "_view_count": null,
            "_view_module": "@jupyter-widgets/controls",
            "_view_module_version": "1.5.0",
            "_view_name": "HTMLView",
            "description": "",
            "description_tooltip": null,
            "layout": "IPY_MODEL_79242f202cf64e8c9364219013df28bd",
            "placeholder": "​",
            "style": "IPY_MODEL_ac714d82a34a49d7b537e2df3ccbd1b8",
            "value": " 22.6M/22.6M [00:01&lt;00:00, 22.0MB/s]"
          }
        },
        "441317128c8e4816b05520028ee28d79": {
          "model_module": "@jupyter-widgets/base",
          "model_name": "LayoutModel",
          "model_module_version": "1.2.0",
          "state": {
            "_model_module": "@jupyter-widgets/base",
            "_model_module_version": "1.2.0",
            "_model_name": "LayoutModel",
            "_view_count": null,
            "_view_module": "@jupyter-widgets/base",
            "_view_module_version": "1.2.0",
            "_view_name": "LayoutView",
            "align_content": null,
            "align_items": null,
            "align_self": null,
            "border": null,
            "bottom": null,
            "display": null,
            "flex": null,
            "flex_flow": null,
            "grid_area": null,
            "grid_auto_columns": null,
            "grid_auto_flow": null,
            "grid_auto_rows": null,
            "grid_column": null,
            "grid_gap": null,
            "grid_row": null,
            "grid_template_areas": null,
            "grid_template_columns": null,
            "grid_template_rows": null,
            "height": null,
            "justify_content": null,
            "justify_items": null,
            "left": null,
            "margin": null,
            "max_height": null,
            "max_width": null,
            "min_height": null,
            "min_width": null,
            "object_fit": null,
            "object_position": null,
            "order": null,
            "overflow": null,
            "overflow_x": null,
            "overflow_y": null,
            "padding": null,
            "right": null,
            "top": null,
            "visibility": null,
            "width": null
          }
        },
        "ecdcbc8591f5403e8026d2c89791a337": {
          "model_module": "@jupyter-widgets/base",
          "model_name": "LayoutModel",
          "model_module_version": "1.2.0",
          "state": {
            "_model_module": "@jupyter-widgets/base",
            "_model_module_version": "1.2.0",
            "_model_name": "LayoutModel",
            "_view_count": null,
            "_view_module": "@jupyter-widgets/base",
            "_view_module_version": "1.2.0",
            "_view_name": "LayoutView",
            "align_content": null,
            "align_items": null,
            "align_self": null,
            "border": null,
            "bottom": null,
            "display": null,
            "flex": null,
            "flex_flow": null,
            "grid_area": null,
            "grid_auto_columns": null,
            "grid_auto_flow": null,
            "grid_auto_rows": null,
            "grid_column": null,
            "grid_gap": null,
            "grid_row": null,
            "grid_template_areas": null,
            "grid_template_columns": null,
            "grid_template_rows": null,
            "height": null,
            "justify_content": null,
            "justify_items": null,
            "left": null,
            "margin": null,
            "max_height": null,
            "max_width": null,
            "min_height": null,
            "min_width": null,
            "object_fit": null,
            "object_position": null,
            "order": null,
            "overflow": null,
            "overflow_x": null,
            "overflow_y": null,
            "padding": null,
            "right": null,
            "top": null,
            "visibility": null,
            "width": null
          }
        },
        "f2fd373510854b33926fdc4bc611a811": {
          "model_module": "@jupyter-widgets/controls",
          "model_name": "DescriptionStyleModel",
          "model_module_version": "1.5.0",
          "state": {
            "_model_module": "@jupyter-widgets/controls",
            "_model_module_version": "1.5.0",
            "_model_name": "DescriptionStyleModel",
            "_view_count": null,
            "_view_module": "@jupyter-widgets/base",
            "_view_module_version": "1.2.0",
            "_view_name": "StyleView",
            "description_width": ""
          }
        },
        "604b36b3f7fb4e17bba96f1c564ad918": {
          "model_module": "@jupyter-widgets/base",
          "model_name": "LayoutModel",
          "model_module_version": "1.2.0",
          "state": {
            "_model_module": "@jupyter-widgets/base",
            "_model_module_version": "1.2.0",
            "_model_name": "LayoutModel",
            "_view_count": null,
            "_view_module": "@jupyter-widgets/base",
            "_view_module_version": "1.2.0",
            "_view_name": "LayoutView",
            "align_content": null,
            "align_items": null,
            "align_self": null,
            "border": null,
            "bottom": null,
            "display": null,
            "flex": null,
            "flex_flow": null,
            "grid_area": null,
            "grid_auto_columns": null,
            "grid_auto_flow": null,
            "grid_auto_rows": null,
            "grid_column": null,
            "grid_gap": null,
            "grid_row": null,
            "grid_template_areas": null,
            "grid_template_columns": null,
            "grid_template_rows": null,
            "height": null,
            "justify_content": null,
            "justify_items": null,
            "left": null,
            "margin": null,
            "max_height": null,
            "max_width": null,
            "min_height": null,
            "min_width": null,
            "object_fit": null,
            "object_position": null,
            "order": null,
            "overflow": null,
            "overflow_x": null,
            "overflow_y": null,
            "padding": null,
            "right": null,
            "top": null,
            "visibility": null,
            "width": null
          }
        },
        "f7ba753ee86d45ada2ae4d144ca95df0": {
          "model_module": "@jupyter-widgets/controls",
          "model_name": "ProgressStyleModel",
          "model_module_version": "1.5.0",
          "state": {
            "_model_module": "@jupyter-widgets/controls",
            "_model_module_version": "1.5.0",
            "_model_name": "ProgressStyleModel",
            "_view_count": null,
            "_view_module": "@jupyter-widgets/base",
            "_view_module_version": "1.2.0",
            "_view_name": "StyleView",
            "bar_color": null,
            "description_width": ""
          }
        },
        "79242f202cf64e8c9364219013df28bd": {
          "model_module": "@jupyter-widgets/base",
          "model_name": "LayoutModel",
          "model_module_version": "1.2.0",
          "state": {
            "_model_module": "@jupyter-widgets/base",
            "_model_module_version": "1.2.0",
            "_model_name": "LayoutModel",
            "_view_count": null,
            "_view_module": "@jupyter-widgets/base",
            "_view_module_version": "1.2.0",
            "_view_name": "LayoutView",
            "align_content": null,
            "align_items": null,
            "align_self": null,
            "border": null,
            "bottom": null,
            "display": null,
            "flex": null,
            "flex_flow": null,
            "grid_area": null,
            "grid_auto_columns": null,
            "grid_auto_flow": null,
            "grid_auto_rows": null,
            "grid_column": null,
            "grid_gap": null,
            "grid_row": null,
            "grid_template_areas": null,
            "grid_template_columns": null,
            "grid_template_rows": null,
            "height": null,
            "justify_content": null,
            "justify_items": null,
            "left": null,
            "margin": null,
            "max_height": null,
            "max_width": null,
            "min_height": null,
            "min_width": null,
            "object_fit": null,
            "object_position": null,
            "order": null,
            "overflow": null,
            "overflow_x": null,
            "overflow_y": null,
            "padding": null,
            "right": null,
            "top": null,
            "visibility": null,
            "width": null
          }
        },
        "ac714d82a34a49d7b537e2df3ccbd1b8": {
          "model_module": "@jupyter-widgets/controls",
          "model_name": "DescriptionStyleModel",
          "model_module_version": "1.5.0",
          "state": {
            "_model_module": "@jupyter-widgets/controls",
            "_model_module_version": "1.5.0",
            "_model_name": "DescriptionStyleModel",
            "_view_count": null,
            "_view_module": "@jupyter-widgets/base",
            "_view_module_version": "1.2.0",
            "_view_name": "StyleView",
            "description_width": ""
          }
        },
        "b0e68825ffdd472d971dafaf9844db13": {
          "model_module": "@jupyter-widgets/controls",
          "model_name": "HBoxModel",
          "model_module_version": "1.5.0",
          "state": {
            "_dom_classes": [],
            "_model_module": "@jupyter-widgets/controls",
            "_model_module_version": "1.5.0",
            "_model_name": "HBoxModel",
            "_view_count": null,
            "_view_module": "@jupyter-widgets/controls",
            "_view_module_version": "1.5.0",
            "_view_name": "HBoxView",
            "box_style": "",
            "children": [
              "IPY_MODEL_60051c547334417cb6ea5052233ce470",
              "IPY_MODEL_1e752460069440f9b03ba12155a6573b",
              "IPY_MODEL_6c2efaa20b884d2793e3761cea5c9629"
            ],
            "layout": "IPY_MODEL_387cd64d2bbc4e26a5e9c84c50a54312"
          }
        },
        "60051c547334417cb6ea5052233ce470": {
          "model_module": "@jupyter-widgets/controls",
          "model_name": "HTMLModel",
          "model_module_version": "1.5.0",
          "state": {
            "_dom_classes": [],
            "_model_module": "@jupyter-widgets/controls",
            "_model_module_version": "1.5.0",
            "_model_name": "HTMLModel",
            "_view_count": null,
            "_view_module": "@jupyter-widgets/controls",
            "_view_module_version": "1.5.0",
            "_view_name": "HTMLView",
            "description": "",
            "description_tooltip": null,
            "layout": "IPY_MODEL_44c7ba2772e8446cb543f7dd86ba8a45",
            "placeholder": "​",
            "style": "IPY_MODEL_061207a85e4f4d0191d835e0a4d8b502",
            "value": "Downloading data: 100%"
          }
        },
        "1e752460069440f9b03ba12155a6573b": {
          "model_module": "@jupyter-widgets/controls",
          "model_name": "FloatProgressModel",
          "model_module_version": "1.5.0",
          "state": {
            "_dom_classes": [],
            "_model_module": "@jupyter-widgets/controls",
            "_model_module_version": "1.5.0",
            "_model_name": "FloatProgressModel",
            "_view_count": null,
            "_view_module": "@jupyter-widgets/controls",
            "_view_module_version": "1.5.0",
            "_view_name": "ProgressView",
            "bar_style": "success",
            "description": "",
            "description_tooltip": null,
            "layout": "IPY_MODEL_bdccfff8c08d403bb810c9921dd7f0de",
            "max": 5645961,
            "min": 0,
            "orientation": "horizontal",
            "style": "IPY_MODEL_12344510fc06465481ef51b7ee23c7e6",
            "value": 5645961
          }
        },
        "6c2efaa20b884d2793e3761cea5c9629": {
          "model_module": "@jupyter-widgets/controls",
          "model_name": "HTMLModel",
          "model_module_version": "1.5.0",
          "state": {
            "_dom_classes": [],
            "_model_module": "@jupyter-widgets/controls",
            "_model_module_version": "1.5.0",
            "_model_name": "HTMLModel",
            "_view_count": null,
            "_view_module": "@jupyter-widgets/controls",
            "_view_module_version": "1.5.0",
            "_view_name": "HTMLView",
            "description": "",
            "description_tooltip": null,
            "layout": "IPY_MODEL_36ea099801f04a53b25946e2f2ef9b43",
            "placeholder": "​",
            "style": "IPY_MODEL_1a976687e7084990830161908708a98f",
            "value": " 5.65M/5.65M [00:00&lt;00:00, 13.9MB/s]"
          }
        },
        "387cd64d2bbc4e26a5e9c84c50a54312": {
          "model_module": "@jupyter-widgets/base",
          "model_name": "LayoutModel",
          "model_module_version": "1.2.0",
          "state": {
            "_model_module": "@jupyter-widgets/base",
            "_model_module_version": "1.2.0",
            "_model_name": "LayoutModel",
            "_view_count": null,
            "_view_module": "@jupyter-widgets/base",
            "_view_module_version": "1.2.0",
            "_view_name": "LayoutView",
            "align_content": null,
            "align_items": null,
            "align_self": null,
            "border": null,
            "bottom": null,
            "display": null,
            "flex": null,
            "flex_flow": null,
            "grid_area": null,
            "grid_auto_columns": null,
            "grid_auto_flow": null,
            "grid_auto_rows": null,
            "grid_column": null,
            "grid_gap": null,
            "grid_row": null,
            "grid_template_areas": null,
            "grid_template_columns": null,
            "grid_template_rows": null,
            "height": null,
            "justify_content": null,
            "justify_items": null,
            "left": null,
            "margin": null,
            "max_height": null,
            "max_width": null,
            "min_height": null,
            "min_width": null,
            "object_fit": null,
            "object_position": null,
            "order": null,
            "overflow": null,
            "overflow_x": null,
            "overflow_y": null,
            "padding": null,
            "right": null,
            "top": null,
            "visibility": null,
            "width": null
          }
        },
        "44c7ba2772e8446cb543f7dd86ba8a45": {
          "model_module": "@jupyter-widgets/base",
          "model_name": "LayoutModel",
          "model_module_version": "1.2.0",
          "state": {
            "_model_module": "@jupyter-widgets/base",
            "_model_module_version": "1.2.0",
            "_model_name": "LayoutModel",
            "_view_count": null,
            "_view_module": "@jupyter-widgets/base",
            "_view_module_version": "1.2.0",
            "_view_name": "LayoutView",
            "align_content": null,
            "align_items": null,
            "align_self": null,
            "border": null,
            "bottom": null,
            "display": null,
            "flex": null,
            "flex_flow": null,
            "grid_area": null,
            "grid_auto_columns": null,
            "grid_auto_flow": null,
            "grid_auto_rows": null,
            "grid_column": null,
            "grid_gap": null,
            "grid_row": null,
            "grid_template_areas": null,
            "grid_template_columns": null,
            "grid_template_rows": null,
            "height": null,
            "justify_content": null,
            "justify_items": null,
            "left": null,
            "margin": null,
            "max_height": null,
            "max_width": null,
            "min_height": null,
            "min_width": null,
            "object_fit": null,
            "object_position": null,
            "order": null,
            "overflow": null,
            "overflow_x": null,
            "overflow_y": null,
            "padding": null,
            "right": null,
            "top": null,
            "visibility": null,
            "width": null
          }
        },
        "061207a85e4f4d0191d835e0a4d8b502": {
          "model_module": "@jupyter-widgets/controls",
          "model_name": "DescriptionStyleModel",
          "model_module_version": "1.5.0",
          "state": {
            "_model_module": "@jupyter-widgets/controls",
            "_model_module_version": "1.5.0",
            "_model_name": "DescriptionStyleModel",
            "_view_count": null,
            "_view_module": "@jupyter-widgets/base",
            "_view_module_version": "1.2.0",
            "_view_name": "StyleView",
            "description_width": ""
          }
        },
        "bdccfff8c08d403bb810c9921dd7f0de": {
          "model_module": "@jupyter-widgets/base",
          "model_name": "LayoutModel",
          "model_module_version": "1.2.0",
          "state": {
            "_model_module": "@jupyter-widgets/base",
            "_model_module_version": "1.2.0",
            "_model_name": "LayoutModel",
            "_view_count": null,
            "_view_module": "@jupyter-widgets/base",
            "_view_module_version": "1.2.0",
            "_view_name": "LayoutView",
            "align_content": null,
            "align_items": null,
            "align_self": null,
            "border": null,
            "bottom": null,
            "display": null,
            "flex": null,
            "flex_flow": null,
            "grid_area": null,
            "grid_auto_columns": null,
            "grid_auto_flow": null,
            "grid_auto_rows": null,
            "grid_column": null,
            "grid_gap": null,
            "grid_row": null,
            "grid_template_areas": null,
            "grid_template_columns": null,
            "grid_template_rows": null,
            "height": null,
            "justify_content": null,
            "justify_items": null,
            "left": null,
            "margin": null,
            "max_height": null,
            "max_width": null,
            "min_height": null,
            "min_width": null,
            "object_fit": null,
            "object_position": null,
            "order": null,
            "overflow": null,
            "overflow_x": null,
            "overflow_y": null,
            "padding": null,
            "right": null,
            "top": null,
            "visibility": null,
            "width": null
          }
        },
        "12344510fc06465481ef51b7ee23c7e6": {
          "model_module": "@jupyter-widgets/controls",
          "model_name": "ProgressStyleModel",
          "model_module_version": "1.5.0",
          "state": {
            "_model_module": "@jupyter-widgets/controls",
            "_model_module_version": "1.5.0",
            "_model_name": "ProgressStyleModel",
            "_view_count": null,
            "_view_module": "@jupyter-widgets/base",
            "_view_module_version": "1.2.0",
            "_view_name": "StyleView",
            "bar_color": null,
            "description_width": ""
          }
        },
        "36ea099801f04a53b25946e2f2ef9b43": {
          "model_module": "@jupyter-widgets/base",
          "model_name": "LayoutModel",
          "model_module_version": "1.2.0",
          "state": {
            "_model_module": "@jupyter-widgets/base",
            "_model_module_version": "1.2.0",
            "_model_name": "LayoutModel",
            "_view_count": null,
            "_view_module": "@jupyter-widgets/base",
            "_view_module_version": "1.2.0",
            "_view_name": "LayoutView",
            "align_content": null,
            "align_items": null,
            "align_self": null,
            "border": null,
            "bottom": null,
            "display": null,
            "flex": null,
            "flex_flow": null,
            "grid_area": null,
            "grid_auto_columns": null,
            "grid_auto_flow": null,
            "grid_auto_rows": null,
            "grid_column": null,
            "grid_gap": null,
            "grid_row": null,
            "grid_template_areas": null,
            "grid_template_columns": null,
            "grid_template_rows": null,
            "height": null,
            "justify_content": null,
            "justify_items": null,
            "left": null,
            "margin": null,
            "max_height": null,
            "max_width": null,
            "min_height": null,
            "min_width": null,
            "object_fit": null,
            "object_position": null,
            "order": null,
            "overflow": null,
            "overflow_x": null,
            "overflow_y": null,
            "padding": null,
            "right": null,
            "top": null,
            "visibility": null,
            "width": null
          }
        },
        "1a976687e7084990830161908708a98f": {
          "model_module": "@jupyter-widgets/controls",
          "model_name": "DescriptionStyleModel",
          "model_module_version": "1.5.0",
          "state": {
            "_model_module": "@jupyter-widgets/controls",
            "_model_module_version": "1.5.0",
            "_model_name": "DescriptionStyleModel",
            "_view_count": null,
            "_view_module": "@jupyter-widgets/base",
            "_view_module_version": "1.2.0",
            "_view_name": "StyleView",
            "description_width": ""
          }
        },
        "935eea9bd4db41208f425c68f481feff": {
          "model_module": "@jupyter-widgets/controls",
          "model_name": "HBoxModel",
          "model_module_version": "1.5.0",
          "state": {
            "_dom_classes": [],
            "_model_module": "@jupyter-widgets/controls",
            "_model_module_version": "1.5.0",
            "_model_name": "HBoxModel",
            "_view_count": null,
            "_view_module": "@jupyter-widgets/controls",
            "_view_module_version": "1.5.0",
            "_view_name": "HBoxView",
            "box_style": "",
            "children": [
              "IPY_MODEL_a7dabc5f7ca54c9da2ebbc8b4ecca85c",
              "IPY_MODEL_98acaa7bc02142ab99552122ece7c6ed",
              "IPY_MODEL_59418c112d37458d8bf3dae4683bf01e"
            ],
            "layout": "IPY_MODEL_fc80557e0ccd43f795b23f6548667edc"
          }
        },
        "a7dabc5f7ca54c9da2ebbc8b4ecca85c": {
          "model_module": "@jupyter-widgets/controls",
          "model_name": "HTMLModel",
          "model_module_version": "1.5.0",
          "state": {
            "_dom_classes": [],
            "_model_module": "@jupyter-widgets/controls",
            "_model_module_version": "1.5.0",
            "_model_name": "HTMLModel",
            "_view_count": null,
            "_view_module": "@jupyter-widgets/controls",
            "_view_module_version": "1.5.0",
            "_view_name": "HTMLView",
            "description": "",
            "description_tooltip": null,
            "layout": "IPY_MODEL_03d76580e1e747b69cd23eb160c153f2",
            "placeholder": "​",
            "style": "IPY_MODEL_97be19acda2c44ce89e1d60f5dc9946e",
            "value": "Generating train split: 100%"
          }
        },
        "98acaa7bc02142ab99552122ece7c6ed": {
          "model_module": "@jupyter-widgets/controls",
          "model_name": "FloatProgressModel",
          "model_module_version": "1.5.0",
          "state": {
            "_dom_classes": [],
            "_model_module": "@jupyter-widgets/controls",
            "_model_module_version": "1.5.0",
            "_model_name": "FloatProgressModel",
            "_view_count": null,
            "_view_module": "@jupyter-widgets/controls",
            "_view_module_version": "1.5.0",
            "_view_name": "ProgressView",
            "bar_style": "success",
            "description": "",
            "description_tooltip": null,
            "layout": "IPY_MODEL_c582f0c9dc034dc789c2f135f361dc2a",
            "max": 5120,
            "min": 0,
            "orientation": "horizontal",
            "style": "IPY_MODEL_b1ee90766458461a8bad662b0a300a1e",
            "value": 5120
          }
        },
        "59418c112d37458d8bf3dae4683bf01e": {
          "model_module": "@jupyter-widgets/controls",
          "model_name": "HTMLModel",
          "model_module_version": "1.5.0",
          "state": {
            "_dom_classes": [],
            "_model_module": "@jupyter-widgets/controls",
            "_model_module_version": "1.5.0",
            "_model_name": "HTMLModel",
            "_view_count": null,
            "_view_module": "@jupyter-widgets/controls",
            "_view_module_version": "1.5.0",
            "_view_name": "HTMLView",
            "description": "",
            "description_tooltip": null,
            "layout": "IPY_MODEL_5adab20005f04a4b8275b42508e3cd18",
            "placeholder": "​",
            "style": "IPY_MODEL_7ea7df5b473e4dbe972f0d43dfb486d7",
            "value": " 5120/5120 [00:00&lt;00:00, 13131.64 examples/s]"
          }
        },
        "fc80557e0ccd43f795b23f6548667edc": {
          "model_module": "@jupyter-widgets/base",
          "model_name": "LayoutModel",
          "model_module_version": "1.2.0",
          "state": {
            "_model_module": "@jupyter-widgets/base",
            "_model_module_version": "1.2.0",
            "_model_name": "LayoutModel",
            "_view_count": null,
            "_view_module": "@jupyter-widgets/base",
            "_view_module_version": "1.2.0",
            "_view_name": "LayoutView",
            "align_content": null,
            "align_items": null,
            "align_self": null,
            "border": null,
            "bottom": null,
            "display": null,
            "flex": null,
            "flex_flow": null,
            "grid_area": null,
            "grid_auto_columns": null,
            "grid_auto_flow": null,
            "grid_auto_rows": null,
            "grid_column": null,
            "grid_gap": null,
            "grid_row": null,
            "grid_template_areas": null,
            "grid_template_columns": null,
            "grid_template_rows": null,
            "height": null,
            "justify_content": null,
            "justify_items": null,
            "left": null,
            "margin": null,
            "max_height": null,
            "max_width": null,
            "min_height": null,
            "min_width": null,
            "object_fit": null,
            "object_position": null,
            "order": null,
            "overflow": null,
            "overflow_x": null,
            "overflow_y": null,
            "padding": null,
            "right": null,
            "top": null,
            "visibility": null,
            "width": null
          }
        },
        "03d76580e1e747b69cd23eb160c153f2": {
          "model_module": "@jupyter-widgets/base",
          "model_name": "LayoutModel",
          "model_module_version": "1.2.0",
          "state": {
            "_model_module": "@jupyter-widgets/base",
            "_model_module_version": "1.2.0",
            "_model_name": "LayoutModel",
            "_view_count": null,
            "_view_module": "@jupyter-widgets/base",
            "_view_module_version": "1.2.0",
            "_view_name": "LayoutView",
            "align_content": null,
            "align_items": null,
            "align_self": null,
            "border": null,
            "bottom": null,
            "display": null,
            "flex": null,
            "flex_flow": null,
            "grid_area": null,
            "grid_auto_columns": null,
            "grid_auto_flow": null,
            "grid_auto_rows": null,
            "grid_column": null,
            "grid_gap": null,
            "grid_row": null,
            "grid_template_areas": null,
            "grid_template_columns": null,
            "grid_template_rows": null,
            "height": null,
            "justify_content": null,
            "justify_items": null,
            "left": null,
            "margin": null,
            "max_height": null,
            "max_width": null,
            "min_height": null,
            "min_width": null,
            "object_fit": null,
            "object_position": null,
            "order": null,
            "overflow": null,
            "overflow_x": null,
            "overflow_y": null,
            "padding": null,
            "right": null,
            "top": null,
            "visibility": null,
            "width": null
          }
        },
        "97be19acda2c44ce89e1d60f5dc9946e": {
          "model_module": "@jupyter-widgets/controls",
          "model_name": "DescriptionStyleModel",
          "model_module_version": "1.5.0",
          "state": {
            "_model_module": "@jupyter-widgets/controls",
            "_model_module_version": "1.5.0",
            "_model_name": "DescriptionStyleModel",
            "_view_count": null,
            "_view_module": "@jupyter-widgets/base",
            "_view_module_version": "1.2.0",
            "_view_name": "StyleView",
            "description_width": ""
          }
        },
        "c582f0c9dc034dc789c2f135f361dc2a": {
          "model_module": "@jupyter-widgets/base",
          "model_name": "LayoutModel",
          "model_module_version": "1.2.0",
          "state": {
            "_model_module": "@jupyter-widgets/base",
            "_model_module_version": "1.2.0",
            "_model_name": "LayoutModel",
            "_view_count": null,
            "_view_module": "@jupyter-widgets/base",
            "_view_module_version": "1.2.0",
            "_view_name": "LayoutView",
            "align_content": null,
            "align_items": null,
            "align_self": null,
            "border": null,
            "bottom": null,
            "display": null,
            "flex": null,
            "flex_flow": null,
            "grid_area": null,
            "grid_auto_columns": null,
            "grid_auto_flow": null,
            "grid_auto_rows": null,
            "grid_column": null,
            "grid_gap": null,
            "grid_row": null,
            "grid_template_areas": null,
            "grid_template_columns": null,
            "grid_template_rows": null,
            "height": null,
            "justify_content": null,
            "justify_items": null,
            "left": null,
            "margin": null,
            "max_height": null,
            "max_width": null,
            "min_height": null,
            "min_width": null,
            "object_fit": null,
            "object_position": null,
            "order": null,
            "overflow": null,
            "overflow_x": null,
            "overflow_y": null,
            "padding": null,
            "right": null,
            "top": null,
            "visibility": null,
            "width": null
          }
        },
        "b1ee90766458461a8bad662b0a300a1e": {
          "model_module": "@jupyter-widgets/controls",
          "model_name": "ProgressStyleModel",
          "model_module_version": "1.5.0",
          "state": {
            "_model_module": "@jupyter-widgets/controls",
            "_model_module_version": "1.5.0",
            "_model_name": "ProgressStyleModel",
            "_view_count": null,
            "_view_module": "@jupyter-widgets/base",
            "_view_module_version": "1.2.0",
            "_view_name": "StyleView",
            "bar_color": null,
            "description_width": ""
          }
        },
        "5adab20005f04a4b8275b42508e3cd18": {
          "model_module": "@jupyter-widgets/base",
          "model_name": "LayoutModel",
          "model_module_version": "1.2.0",
          "state": {
            "_model_module": "@jupyter-widgets/base",
            "_model_module_version": "1.2.0",
            "_model_name": "LayoutModel",
            "_view_count": null,
            "_view_module": "@jupyter-widgets/base",
            "_view_module_version": "1.2.0",
            "_view_name": "LayoutView",
            "align_content": null,
            "align_items": null,
            "align_self": null,
            "border": null,
            "bottom": null,
            "display": null,
            "flex": null,
            "flex_flow": null,
            "grid_area": null,
            "grid_auto_columns": null,
            "grid_auto_flow": null,
            "grid_auto_rows": null,
            "grid_column": null,
            "grid_gap": null,
            "grid_row": null,
            "grid_template_areas": null,
            "grid_template_columns": null,
            "grid_template_rows": null,
            "height": null,
            "justify_content": null,
            "justify_items": null,
            "left": null,
            "margin": null,
            "max_height": null,
            "max_width": null,
            "min_height": null,
            "min_width": null,
            "object_fit": null,
            "object_position": null,
            "order": null,
            "overflow": null,
            "overflow_x": null,
            "overflow_y": null,
            "padding": null,
            "right": null,
            "top": null,
            "visibility": null,
            "width": null
          }
        },
        "7ea7df5b473e4dbe972f0d43dfb486d7": {
          "model_module": "@jupyter-widgets/controls",
          "model_name": "DescriptionStyleModel",
          "model_module_version": "1.5.0",
          "state": {
            "_model_module": "@jupyter-widgets/controls",
            "_model_module_version": "1.5.0",
            "_model_name": "DescriptionStyleModel",
            "_view_count": null,
            "_view_module": "@jupyter-widgets/base",
            "_view_module_version": "1.2.0",
            "_view_name": "StyleView",
            "description_width": ""
          }
        },
        "948e1a3123c344b497eec7a0c2fc156d": {
          "model_module": "@jupyter-widgets/controls",
          "model_name": "HBoxModel",
          "model_module_version": "1.5.0",
          "state": {
            "_dom_classes": [],
            "_model_module": "@jupyter-widgets/controls",
            "_model_module_version": "1.5.0",
            "_model_name": "HBoxModel",
            "_view_count": null,
            "_view_module": "@jupyter-widgets/controls",
            "_view_module_version": "1.5.0",
            "_view_name": "HBoxView",
            "box_style": "",
            "children": [
              "IPY_MODEL_9f323a3bf25648379e70fbdc23209015",
              "IPY_MODEL_bcaa893457d548378b33602c4f6f262b",
              "IPY_MODEL_e62b85b24ce743459b42445384974aa7"
            ],
            "layout": "IPY_MODEL_8c27a20a320047b197f9301253e0c8e6"
          }
        },
        "9f323a3bf25648379e70fbdc23209015": {
          "model_module": "@jupyter-widgets/controls",
          "model_name": "HTMLModel",
          "model_module_version": "1.5.0",
          "state": {
            "_dom_classes": [],
            "_model_module": "@jupyter-widgets/controls",
            "_model_module_version": "1.5.0",
            "_model_name": "HTMLModel",
            "_view_count": null,
            "_view_module": "@jupyter-widgets/controls",
            "_view_module_version": "1.5.0",
            "_view_name": "HTMLView",
            "description": "",
            "description_tooltip": null,
            "layout": "IPY_MODEL_df2986c235214609bafafe918fc0545e",
            "placeholder": "​",
            "style": "IPY_MODEL_faafdfc780a84c08968f5bbcbc56d75f",
            "value": "Generating test split: 100%"
          }
        },
        "bcaa893457d548378b33602c4f6f262b": {
          "model_module": "@jupyter-widgets/controls",
          "model_name": "FloatProgressModel",
          "model_module_version": "1.5.0",
          "state": {
            "_dom_classes": [],
            "_model_module": "@jupyter-widgets/controls",
            "_model_module_version": "1.5.0",
            "_model_name": "FloatProgressModel",
            "_view_count": null,
            "_view_module": "@jupyter-widgets/controls",
            "_view_module_version": "1.5.0",
            "_view_name": "ProgressView",
            "bar_style": "success",
            "description": "",
            "description_tooltip": null,
            "layout": "IPY_MODEL_d6683b6af4344f9181fd30f720f4d8eb",
            "max": 1280,
            "min": 0,
            "orientation": "horizontal",
            "style": "IPY_MODEL_b0d98a45f63b464f8366673b50afda37",
            "value": 1280
          }
        },
        "e62b85b24ce743459b42445384974aa7": {
          "model_module": "@jupyter-widgets/controls",
          "model_name": "HTMLModel",
          "model_module_version": "1.5.0",
          "state": {
            "_dom_classes": [],
            "_model_module": "@jupyter-widgets/controls",
            "_model_module_version": "1.5.0",
            "_model_name": "HTMLModel",
            "_view_count": null,
            "_view_module": "@jupyter-widgets/controls",
            "_view_module_version": "1.5.0",
            "_view_name": "HTMLView",
            "description": "",
            "description_tooltip": null,
            "layout": "IPY_MODEL_914dcc29d1af4709b21e05e6c805ee8c",
            "placeholder": "​",
            "style": "IPY_MODEL_7f9aed22fa104129bce3bc13783fe802",
            "value": " 1280/1280 [00:00&lt;00:00, 16396.61 examples/s]"
          }
        },
        "8c27a20a320047b197f9301253e0c8e6": {
          "model_module": "@jupyter-widgets/base",
          "model_name": "LayoutModel",
          "model_module_version": "1.2.0",
          "state": {
            "_model_module": "@jupyter-widgets/base",
            "_model_module_version": "1.2.0",
            "_model_name": "LayoutModel",
            "_view_count": null,
            "_view_module": "@jupyter-widgets/base",
            "_view_module_version": "1.2.0",
            "_view_name": "LayoutView",
            "align_content": null,
            "align_items": null,
            "align_self": null,
            "border": null,
            "bottom": null,
            "display": null,
            "flex": null,
            "flex_flow": null,
            "grid_area": null,
            "grid_auto_columns": null,
            "grid_auto_flow": null,
            "grid_auto_rows": null,
            "grid_column": null,
            "grid_gap": null,
            "grid_row": null,
            "grid_template_areas": null,
            "grid_template_columns": null,
            "grid_template_rows": null,
            "height": null,
            "justify_content": null,
            "justify_items": null,
            "left": null,
            "margin": null,
            "max_height": null,
            "max_width": null,
            "min_height": null,
            "min_width": null,
            "object_fit": null,
            "object_position": null,
            "order": null,
            "overflow": null,
            "overflow_x": null,
            "overflow_y": null,
            "padding": null,
            "right": null,
            "top": null,
            "visibility": null,
            "width": null
          }
        },
        "df2986c235214609bafafe918fc0545e": {
          "model_module": "@jupyter-widgets/base",
          "model_name": "LayoutModel",
          "model_module_version": "1.2.0",
          "state": {
            "_model_module": "@jupyter-widgets/base",
            "_model_module_version": "1.2.0",
            "_model_name": "LayoutModel",
            "_view_count": null,
            "_view_module": "@jupyter-widgets/base",
            "_view_module_version": "1.2.0",
            "_view_name": "LayoutView",
            "align_content": null,
            "align_items": null,
            "align_self": null,
            "border": null,
            "bottom": null,
            "display": null,
            "flex": null,
            "flex_flow": null,
            "grid_area": null,
            "grid_auto_columns": null,
            "grid_auto_flow": null,
            "grid_auto_rows": null,
            "grid_column": null,
            "grid_gap": null,
            "grid_row": null,
            "grid_template_areas": null,
            "grid_template_columns": null,
            "grid_template_rows": null,
            "height": null,
            "justify_content": null,
            "justify_items": null,
            "left": null,
            "margin": null,
            "max_height": null,
            "max_width": null,
            "min_height": null,
            "min_width": null,
            "object_fit": null,
            "object_position": null,
            "order": null,
            "overflow": null,
            "overflow_x": null,
            "overflow_y": null,
            "padding": null,
            "right": null,
            "top": null,
            "visibility": null,
            "width": null
          }
        },
        "faafdfc780a84c08968f5bbcbc56d75f": {
          "model_module": "@jupyter-widgets/controls",
          "model_name": "DescriptionStyleModel",
          "model_module_version": "1.5.0",
          "state": {
            "_model_module": "@jupyter-widgets/controls",
            "_model_module_version": "1.5.0",
            "_model_name": "DescriptionStyleModel",
            "_view_count": null,
            "_view_module": "@jupyter-widgets/base",
            "_view_module_version": "1.2.0",
            "_view_name": "StyleView",
            "description_width": ""
          }
        },
        "d6683b6af4344f9181fd30f720f4d8eb": {
          "model_module": "@jupyter-widgets/base",
          "model_name": "LayoutModel",
          "model_module_version": "1.2.0",
          "state": {
            "_model_module": "@jupyter-widgets/base",
            "_model_module_version": "1.2.0",
            "_model_name": "LayoutModel",
            "_view_count": null,
            "_view_module": "@jupyter-widgets/base",
            "_view_module_version": "1.2.0",
            "_view_name": "LayoutView",
            "align_content": null,
            "align_items": null,
            "align_self": null,
            "border": null,
            "bottom": null,
            "display": null,
            "flex": null,
            "flex_flow": null,
            "grid_area": null,
            "grid_auto_columns": null,
            "grid_auto_flow": null,
            "grid_auto_rows": null,
            "grid_column": null,
            "grid_gap": null,
            "grid_row": null,
            "grid_template_areas": null,
            "grid_template_columns": null,
            "grid_template_rows": null,
            "height": null,
            "justify_content": null,
            "justify_items": null,
            "left": null,
            "margin": null,
            "max_height": null,
            "max_width": null,
            "min_height": null,
            "min_width": null,
            "object_fit": null,
            "object_position": null,
            "order": null,
            "overflow": null,
            "overflow_x": null,
            "overflow_y": null,
            "padding": null,
            "right": null,
            "top": null,
            "visibility": null,
            "width": null
          }
        },
        "b0d98a45f63b464f8366673b50afda37": {
          "model_module": "@jupyter-widgets/controls",
          "model_name": "ProgressStyleModel",
          "model_module_version": "1.5.0",
          "state": {
            "_model_module": "@jupyter-widgets/controls",
            "_model_module_version": "1.5.0",
            "_model_name": "ProgressStyleModel",
            "_view_count": null,
            "_view_module": "@jupyter-widgets/base",
            "_view_module_version": "1.2.0",
            "_view_name": "StyleView",
            "bar_color": null,
            "description_width": ""
          }
        },
        "914dcc29d1af4709b21e05e6c805ee8c": {
          "model_module": "@jupyter-widgets/base",
          "model_name": "LayoutModel",
          "model_module_version": "1.2.0",
          "state": {
            "_model_module": "@jupyter-widgets/base",
            "_model_module_version": "1.2.0",
            "_model_name": "LayoutModel",
            "_view_count": null,
            "_view_module": "@jupyter-widgets/base",
            "_view_module_version": "1.2.0",
            "_view_name": "LayoutView",
            "align_content": null,
            "align_items": null,
            "align_self": null,
            "border": null,
            "bottom": null,
            "display": null,
            "flex": null,
            "flex_flow": null,
            "grid_area": null,
            "grid_auto_columns": null,
            "grid_auto_flow": null,
            "grid_auto_rows": null,
            "grid_column": null,
            "grid_gap": null,
            "grid_row": null,
            "grid_template_areas": null,
            "grid_template_columns": null,
            "grid_template_rows": null,
            "height": null,
            "justify_content": null,
            "justify_items": null,
            "left": null,
            "margin": null,
            "max_height": null,
            "max_width": null,
            "min_height": null,
            "min_width": null,
            "object_fit": null,
            "object_position": null,
            "order": null,
            "overflow": null,
            "overflow_x": null,
            "overflow_y": null,
            "padding": null,
            "right": null,
            "top": null,
            "visibility": null,
            "width": null
          }
        },
        "7f9aed22fa104129bce3bc13783fe802": {
          "model_module": "@jupyter-widgets/controls",
          "model_name": "DescriptionStyleModel",
          "model_module_version": "1.5.0",
          "state": {
            "_model_module": "@jupyter-widgets/controls",
            "_model_module_version": "1.5.0",
            "_model_name": "DescriptionStyleModel",
            "_view_count": null,
            "_view_module": "@jupyter-widgets/base",
            "_view_module_version": "1.2.0",
            "_view_name": "StyleView",
            "description_width": ""
          }
        }
      }
    }
  },
  "cells": [
    {
      "cell_type": "markdown",
      "metadata": {
        "id": "view-in-github",
        "colab_type": "text"
      },
      "source": [
        "<a href=\"https://colab.research.google.com/github/aisyahbil/alzheimer_classification/blob/main/CNN_Weight.ipynb\" target=\"_parent\"><img src=\"https://colab.research.google.com/assets/colab-badge.svg\" alt=\"Open In Colab\"/></a>"
      ]
    },
    {
      "cell_type": "code",
      "execution_count": null,
      "metadata": {
        "colab": {
          "base_uri": "https://localhost:8080/"
        },
        "id": "dsbsSjoV8yAM",
        "outputId": "54f78710-2c6c-4e89-8511-c056885ab3c2"
      },
      "outputs": [
        {
          "output_type": "stream",
          "name": "stdout",
          "text": [
            "Collecting datasets\n",
            "  Downloading datasets-2.16.1-py3-none-any.whl (507 kB)\n",
            "\u001b[?25l     \u001b[90m━━━━━━━━━━━━━━━━━━━━━━━━━━━━━━━━━━━━━━━━\u001b[0m \u001b[32m0.0/507.1 kB\u001b[0m \u001b[31m?\u001b[0m eta \u001b[36m-:--:--\u001b[0m\r\u001b[2K     \u001b[91m━━━━━━━━━━━━━━━━━━━\u001b[0m\u001b[90m╺\u001b[0m\u001b[90m━━━━━━━━━━━━━━━━━━━━\u001b[0m \u001b[32m245.8/507.1 kB\u001b[0m \u001b[31m7.9 MB/s\u001b[0m eta \u001b[36m0:00:01\u001b[0m\r\u001b[2K     \u001b[90m━━━━━━━━━━━━━━━━━━━━━━━━━━━━━━━━━━━━━━━━\u001b[0m \u001b[32m507.1/507.1 kB\u001b[0m \u001b[31m8.8 MB/s\u001b[0m eta \u001b[36m0:00:00\u001b[0m\n",
            "\u001b[?25hRequirement already satisfied: filelock in /usr/local/lib/python3.10/dist-packages (from datasets) (3.13.1)\n",
            "Requirement already satisfied: numpy>=1.17 in /usr/local/lib/python3.10/dist-packages (from datasets) (1.23.5)\n",
            "Requirement already satisfied: pyarrow>=8.0.0 in /usr/local/lib/python3.10/dist-packages (from datasets) (10.0.1)\n",
            "Requirement already satisfied: pyarrow-hotfix in /usr/local/lib/python3.10/dist-packages (from datasets) (0.6)\n",
            "Collecting dill<0.3.8,>=0.3.0 (from datasets)\n",
            "  Downloading dill-0.3.7-py3-none-any.whl (115 kB)\n",
            "\u001b[2K     \u001b[90m━━━━━━━━━━━━━━━━━━━━━━━━━━━━━━━━━━━━━━━━\u001b[0m \u001b[32m115.3/115.3 kB\u001b[0m \u001b[31m14.2 MB/s\u001b[0m eta \u001b[36m0:00:00\u001b[0m\n",
            "\u001b[?25hRequirement already satisfied: pandas in /usr/local/lib/python3.10/dist-packages (from datasets) (1.5.3)\n",
            "Requirement already satisfied: requests>=2.19.0 in /usr/local/lib/python3.10/dist-packages (from datasets) (2.31.0)\n",
            "Requirement already satisfied: tqdm>=4.62.1 in /usr/local/lib/python3.10/dist-packages (from datasets) (4.66.1)\n",
            "Requirement already satisfied: xxhash in /usr/local/lib/python3.10/dist-packages (from datasets) (3.4.1)\n",
            "Collecting multiprocess (from datasets)\n",
            "  Downloading multiprocess-0.70.16-py310-none-any.whl (134 kB)\n",
            "\u001b[2K     \u001b[90m━━━━━━━━━━━━━━━━━━━━━━━━━━━━━━━━━━━━━━━━\u001b[0m \u001b[32m134.8/134.8 kB\u001b[0m \u001b[31m10.1 MB/s\u001b[0m eta \u001b[36m0:00:00\u001b[0m\n",
            "\u001b[?25hRequirement already satisfied: fsspec[http]<=2023.10.0,>=2023.1.0 in /usr/local/lib/python3.10/dist-packages (from datasets) (2023.6.0)\n",
            "Requirement already satisfied: aiohttp in /usr/local/lib/python3.10/dist-packages (from datasets) (3.9.1)\n",
            "Requirement already satisfied: huggingface-hub>=0.19.4 in /usr/local/lib/python3.10/dist-packages (from datasets) (0.20.3)\n",
            "Requirement already satisfied: packaging in /usr/local/lib/python3.10/dist-packages (from datasets) (23.2)\n",
            "Requirement already satisfied: pyyaml>=5.1 in /usr/local/lib/python3.10/dist-packages (from datasets) (6.0.1)\n",
            "Requirement already satisfied: attrs>=17.3.0 in /usr/local/lib/python3.10/dist-packages (from aiohttp->datasets) (23.2.0)\n",
            "Requirement already satisfied: multidict<7.0,>=4.5 in /usr/local/lib/python3.10/dist-packages (from aiohttp->datasets) (6.0.4)\n",
            "Requirement already satisfied: yarl<2.0,>=1.0 in /usr/local/lib/python3.10/dist-packages (from aiohttp->datasets) (1.9.4)\n",
            "Requirement already satisfied: frozenlist>=1.1.1 in /usr/local/lib/python3.10/dist-packages (from aiohttp->datasets) (1.4.1)\n",
            "Requirement already satisfied: aiosignal>=1.1.2 in /usr/local/lib/python3.10/dist-packages (from aiohttp->datasets) (1.3.1)\n",
            "Requirement already satisfied: async-timeout<5.0,>=4.0 in /usr/local/lib/python3.10/dist-packages (from aiohttp->datasets) (4.0.3)\n",
            "Requirement already satisfied: typing-extensions>=3.7.4.3 in /usr/local/lib/python3.10/dist-packages (from huggingface-hub>=0.19.4->datasets) (4.5.0)\n",
            "Requirement already satisfied: charset-normalizer<4,>=2 in /usr/local/lib/python3.10/dist-packages (from requests>=2.19.0->datasets) (3.3.2)\n",
            "Requirement already satisfied: idna<4,>=2.5 in /usr/local/lib/python3.10/dist-packages (from requests>=2.19.0->datasets) (3.6)\n",
            "Requirement already satisfied: urllib3<3,>=1.21.1 in /usr/local/lib/python3.10/dist-packages (from requests>=2.19.0->datasets) (2.0.7)\n",
            "Requirement already satisfied: certifi>=2017.4.17 in /usr/local/lib/python3.10/dist-packages (from requests>=2.19.0->datasets) (2023.11.17)\n",
            "INFO: pip is looking at multiple versions of multiprocess to determine which version is compatible with other requirements. This could take a while.\n",
            "  Downloading multiprocess-0.70.15-py310-none-any.whl (134 kB)\n",
            "\u001b[2K     \u001b[90m━━━━━━━━━━━━━━━━━━━━━━━━━━━━━━━━━━━━━━━━\u001b[0m \u001b[32m134.8/134.8 kB\u001b[0m \u001b[31m13.3 MB/s\u001b[0m eta \u001b[36m0:00:00\u001b[0m\n",
            "\u001b[?25hRequirement already satisfied: python-dateutil>=2.8.1 in /usr/local/lib/python3.10/dist-packages (from pandas->datasets) (2.8.2)\n",
            "Requirement already satisfied: pytz>=2020.1 in /usr/local/lib/python3.10/dist-packages (from pandas->datasets) (2023.3.post1)\n",
            "Requirement already satisfied: six>=1.5 in /usr/local/lib/python3.10/dist-packages (from python-dateutil>=2.8.1->pandas->datasets) (1.16.0)\n",
            "Installing collected packages: dill, multiprocess, datasets\n",
            "Successfully installed datasets-2.16.1 dill-0.3.7 multiprocess-0.70.15\n"
          ]
        }
      ],
      "source": [
        "pip install datasets"
      ]
    },
    {
      "cell_type": "code",
      "source": [
        "pip install torchsummary"
      ],
      "metadata": {
        "colab": {
          "base_uri": "https://localhost:8080/"
        },
        "id": "IaRSNxaIGGPe",
        "outputId": "1bbf4d14-77ca-4ca4-dec4-45d5090aa9f1"
      },
      "execution_count": null,
      "outputs": [
        {
          "output_type": "stream",
          "name": "stdout",
          "text": [
            "Requirement already satisfied: torchsummary in /usr/local/lib/python3.10/dist-packages (1.5.1)\n"
          ]
        }
      ]
    },
    {
      "cell_type": "code",
      "source": [
        "from datasets import load_dataset\n",
        "import torch\n",
        "import torch.nn as nn\n",
        "import torch.optim as optim\n",
        "import torchvision\n",
        "import torchvision.transforms as transforms\n",
        "import numpy as np\n",
        "from torch.utils.data import DataLoader"
      ],
      "metadata": {
        "id": "CArIroJ2Gznq"
      },
      "execution_count": null,
      "outputs": []
    },
    {
      "cell_type": "code",
      "source": [
        "import numpy as np\n",
        "from torchvision import transforms\n",
        "from torch.utils.data import DataLoader, TensorDataset\n",
        "from sklearn.model_selection import train_test_split, GridSearchCV\n",
        "from torch.nn import CrossEntropyLoss\n",
        "from torch import optim, nn\n",
        "from sklearn.model_selection import StratifiedKFold\n",
        "from math import nextafter"
      ],
      "metadata": {
        "id": "rn7SA2E-G03c"
      },
      "execution_count": null,
      "outputs": []
    },
    {
      "cell_type": "code",
      "source": [
        "batch_size = 32\n",
        "\n",
        "# Load your dataset using Hugging Face datasets\n",
        "data_train = load_dataset('Falah/Alzheimer_MRI', split='train')\n",
        "data_test = load_dataset('Falah/Alzheimer_MRI', split='test')\n",
        "\n",
        "# Extract and preprocess the images and labels\n",
        "array_train = [np.array(image) for image in data_train['image']]\n",
        "array_test = [np.array(image) for image in data_test['image']]\n",
        "array_train = np.array(array_train) / 255.0\n",
        "array_test = np.array(array_test) / 255.0\n",
        "array_train_label = np.array(data_train['label'])\n",
        "array_test_label = np.array(data_test['label'])\n",
        "array_train = np.stack((array_train,) * 3, axis=-1)  # Add 3 channels\n",
        "array_test = np.stack((array_test,) * 3, axis=-1)    # Add 3 channels\n",
        "\n",
        "\n",
        "# Convert NumPy arrays to PyTorch tensors\n",
        "train_data = TensorDataset(torch.Tensor(array_train), torch.Tensor(array_train_label))\n",
        "test_data = TensorDataset(torch.Tensor(array_test), torch.Tensor(array_test_label))\n",
        "\n",
        "# Create DataLoader objects\n",
        "trainloader = DataLoader(train_data, batch_size=batch_size, shuffle=True)\n",
        "testloader = DataLoader(test_data, batch_size=batch_size, shuffle=False)"
      ],
      "metadata": {
        "id": "9wKcSsoyG665",
        "colab": {
          "base_uri": "https://localhost:8080/",
          "height": 301,
          "referenced_widgets": [
            "05c88a25efcd4d8f94ee79857721c2c3",
            "d18745e50e474836a1e16f30406ed8f0",
            "bd8efaa7a6b24006bdcc2b14512f09b1",
            "237c1659c3754d11aae5a6fdb192f8cf",
            "fa6eee6116b140ed8e8a87da56ffae92",
            "4ad845571108470eb155dffe0c7c26c4",
            "6911b191fb014b69afab4c2d5ef77fcb",
            "03ea0680cb2c4650bc8908d37ae26f55",
            "def6233139e543feb0f3e354dce127be",
            "7451ee79d0b24e478e35e8883781d9aa",
            "15771918a04c40438993451037df562a",
            "20de2887734a47be88aa2d7aa78e34ff",
            "1fe496f50cfb476b8ed40c69ff4879ef",
            "ce33dedf8c99421a8fd4482fc5a0da30",
            "662d7d994c624fc480fdbaeb2f207621",
            "441317128c8e4816b05520028ee28d79",
            "ecdcbc8591f5403e8026d2c89791a337",
            "f2fd373510854b33926fdc4bc611a811",
            "604b36b3f7fb4e17bba96f1c564ad918",
            "f7ba753ee86d45ada2ae4d144ca95df0",
            "79242f202cf64e8c9364219013df28bd",
            "ac714d82a34a49d7b537e2df3ccbd1b8",
            "b0e68825ffdd472d971dafaf9844db13",
            "60051c547334417cb6ea5052233ce470",
            "1e752460069440f9b03ba12155a6573b",
            "6c2efaa20b884d2793e3761cea5c9629",
            "387cd64d2bbc4e26a5e9c84c50a54312",
            "44c7ba2772e8446cb543f7dd86ba8a45",
            "061207a85e4f4d0191d835e0a4d8b502",
            "bdccfff8c08d403bb810c9921dd7f0de",
            "12344510fc06465481ef51b7ee23c7e6",
            "36ea099801f04a53b25946e2f2ef9b43",
            "1a976687e7084990830161908708a98f",
            "935eea9bd4db41208f425c68f481feff",
            "a7dabc5f7ca54c9da2ebbc8b4ecca85c",
            "98acaa7bc02142ab99552122ece7c6ed",
            "59418c112d37458d8bf3dae4683bf01e",
            "fc80557e0ccd43f795b23f6548667edc",
            "03d76580e1e747b69cd23eb160c153f2",
            "97be19acda2c44ce89e1d60f5dc9946e",
            "c582f0c9dc034dc789c2f135f361dc2a",
            "b1ee90766458461a8bad662b0a300a1e",
            "5adab20005f04a4b8275b42508e3cd18",
            "7ea7df5b473e4dbe972f0d43dfb486d7",
            "948e1a3123c344b497eec7a0c2fc156d",
            "9f323a3bf25648379e70fbdc23209015",
            "bcaa893457d548378b33602c4f6f262b",
            "e62b85b24ce743459b42445384974aa7",
            "8c27a20a320047b197f9301253e0c8e6",
            "df2986c235214609bafafe918fc0545e",
            "faafdfc780a84c08968f5bbcbc56d75f",
            "d6683b6af4344f9181fd30f720f4d8eb",
            "b0d98a45f63b464f8366673b50afda37",
            "914dcc29d1af4709b21e05e6c805ee8c",
            "7f9aed22fa104129bce3bc13783fe802"
          ]
        },
        "outputId": "a4ed6796-97c5-466b-afc1-24340f5336b7"
      },
      "execution_count": null,
      "outputs": [
        {
          "output_type": "stream",
          "name": "stderr",
          "text": [
            "/usr/local/lib/python3.10/dist-packages/huggingface_hub/utils/_token.py:88: UserWarning: \n",
            "The secret `HF_TOKEN` does not exist in your Colab secrets.\n",
            "To authenticate with the Hugging Face Hub, create a token in your settings tab (https://huggingface.co/settings/tokens), set it as secret in your Google Colab and restart your session.\n",
            "You will be able to reuse this secret in all of your notebooks.\n",
            "Please note that authentication is recommended but still optional to access public models or datasets.\n",
            "  warnings.warn(\n"
          ]
        },
        {
          "output_type": "display_data",
          "data": {
            "text/plain": [
              "Downloading readme:   0%|          | 0.00/2.13k [00:00<?, ?B/s]"
            ],
            "application/vnd.jupyter.widget-view+json": {
              "version_major": 2,
              "version_minor": 0,
              "model_id": "05c88a25efcd4d8f94ee79857721c2c3"
            }
          },
          "metadata": {}
        },
        {
          "output_type": "display_data",
          "data": {
            "text/plain": [
              "Downloading data:   0%|          | 0.00/22.6M [00:00<?, ?B/s]"
            ],
            "application/vnd.jupyter.widget-view+json": {
              "version_major": 2,
              "version_minor": 0,
              "model_id": "20de2887734a47be88aa2d7aa78e34ff"
            }
          },
          "metadata": {}
        },
        {
          "output_type": "display_data",
          "data": {
            "text/plain": [
              "Downloading data:   0%|          | 0.00/5.65M [00:00<?, ?B/s]"
            ],
            "application/vnd.jupyter.widget-view+json": {
              "version_major": 2,
              "version_minor": 0,
              "model_id": "b0e68825ffdd472d971dafaf9844db13"
            }
          },
          "metadata": {}
        },
        {
          "output_type": "display_data",
          "data": {
            "text/plain": [
              "Generating train split:   0%|          | 0/5120 [00:00<?, ? examples/s]"
            ],
            "application/vnd.jupyter.widget-view+json": {
              "version_major": 2,
              "version_minor": 0,
              "model_id": "935eea9bd4db41208f425c68f481feff"
            }
          },
          "metadata": {}
        },
        {
          "output_type": "display_data",
          "data": {
            "text/plain": [
              "Generating test split:   0%|          | 0/1280 [00:00<?, ? examples/s]"
            ],
            "application/vnd.jupyter.widget-view+json": {
              "version_major": 2,
              "version_minor": 0,
              "model_id": "948e1a3123c344b497eec7a0c2fc156d"
            }
          },
          "metadata": {}
        }
      ]
    },
    {
      "cell_type": "code",
      "source": [
        "device = torch.device(\"cuda\" if torch.cuda.is_available() else \"cpu\")"
      ],
      "metadata": {
        "id": "54Ojx3i1G9MY"
      },
      "execution_count": null,
      "outputs": []
    },
    {
      "cell_type": "code",
      "source": [
        "# Step 2: Define the CNN model\n",
        "def create_model(hidden_size=512, dropout=0.2):\n",
        "    model = nn.Sequential(\n",
        "        nn.Conv2d(3, 32, kernel_size=3, padding=1),\n",
        "        nn.ReLU(),\n",
        "        nn.MaxPool2d(2, 2),\n",
        "\n",
        "        nn.Conv2d(32, 64, kernel_size=3, padding=1),\n",
        "        nn.ReLU(),\n",
        "        nn.MaxPool2d(2, 2),\n",
        "\n",
        "        nn.Conv2d(64, 128, kernel_size=3, padding=1),\n",
        "        nn.ReLU(),\n",
        "        nn.MaxPool2d(2, 2),\n",
        "\n",
        "        nn.Flatten(),\n",
        "\n",
        "        nn.Linear(128 * 16 * 16, hidden_size),\n",
        "        nn.ReLU(),\n",
        "        nn.Dropout(dropout),\n",
        "\n",
        "        nn.Linear(hidden_size, 4),\n",
        "        nn.Softmax(dim=1)\n",
        "    )\n",
        "    # Store hyperparameters as attributes\n",
        "    model.hidden_size = hidden_size\n",
        "    model.dropout = dropout\n",
        "    return model"
      ],
      "metadata": {
        "id": "4qGV8b3qHAAb"
      },
      "execution_count": null,
      "outputs": []
    },
    {
      "cell_type": "code",
      "source": [
        "from torchsummary import summary\n",
        "\n",
        "\n",
        "def determine_input_features(model):\n",
        "    # Iterate through the layers to find the last linear layer\n",
        "    for layer in reversed(model):\n",
        "        if isinstance(layer, nn.Linear):\n",
        "            return layer.in_features\n",
        "\n",
        "# Set device\n",
        "device = torch.device(\"cuda\" if torch.cuda.is_available() else \"cpu\")\n",
        "\n",
        "# Create an instance of the model\n",
        "model = create_model().to(device)\n",
        "\n",
        "# Use torchsummary to print the model summary\n",
        "summary(model, (3, 128, 128))"
      ],
      "metadata": {
        "colab": {
          "base_uri": "https://localhost:8080/"
        },
        "id": "uPhozGKBHFlJ",
        "outputId": "aa80c142-2e56-4808-babf-f6da921e05d5"
      },
      "execution_count": null,
      "outputs": [
        {
          "output_type": "stream",
          "name": "stdout",
          "text": [
            "----------------------------------------------------------------\n",
            "        Layer (type)               Output Shape         Param #\n",
            "================================================================\n",
            "            Conv2d-1         [-1, 32, 128, 128]             896\n",
            "              ReLU-2         [-1, 32, 128, 128]               0\n",
            "         MaxPool2d-3           [-1, 32, 64, 64]               0\n",
            "            Conv2d-4           [-1, 64, 64, 64]          18,496\n",
            "              ReLU-5           [-1, 64, 64, 64]               0\n",
            "         MaxPool2d-6           [-1, 64, 32, 32]               0\n",
            "            Conv2d-7          [-1, 128, 32, 32]          73,856\n",
            "              ReLU-8          [-1, 128, 32, 32]               0\n",
            "         MaxPool2d-9          [-1, 128, 16, 16]               0\n",
            "          Flatten-10                [-1, 32768]               0\n",
            "           Linear-11                  [-1, 512]      16,777,728\n",
            "             ReLU-12                  [-1, 512]               0\n",
            "          Dropout-13                  [-1, 512]               0\n",
            "           Linear-14                    [-1, 4]           2,052\n",
            "          Softmax-15                    [-1, 4]               0\n",
            "================================================================\n",
            "Total params: 16,873,028\n",
            "Trainable params: 16,873,028\n",
            "Non-trainable params: 0\n",
            "----------------------------------------------------------------\n",
            "Input size (MB): 0.19\n",
            "Forward/backward pass size (MB): 16.01\n",
            "Params size (MB): 64.37\n",
            "Estimated Total Size (MB): 80.56\n",
            "----------------------------------------------------------------\n"
          ]
        }
      ]
    },
    {
      "cell_type": "code",
      "source": [
        "# Define class weights (replace this with your actual class weights)\n",
        "class_weights = [0.06377551, 0.89285714, 0.01785714, 0.0255102 ]\n",
        "class_weights_tensor = torch.tensor(class_weights, dtype=torch.float32)#.to(create_model.device)\n",
        "\n",
        "\n",
        "# Define the loss function with class weights\n",
        "optimizer = optim.Adam(create_model().parameters(), lr=0.001)"
      ],
      "metadata": {
        "id": "8XYJ-LP5HNYQ"
      },
      "execution_count": null,
      "outputs": []
    },
    {
      "cell_type": "markdown",
      "source": [
        "#weight jumlah 1"
      ],
      "metadata": {
        "id": "pMv7E8ZVHZhR"
      }
    },
    {
      "cell_type": "code",
      "source": [
        "# Define the PyTorch classifier for scikit-learn compatibility\n",
        "\n",
        "import copy\n",
        "from itertools import product\n",
        "from tqdm import tqdm  # Add this line\n",
        "import torch.nn.functional as F\n",
        "\n",
        "class PyTorchClassifierWrapper:\n",
        "    def __init__(self, model, criterion, optimizer, epochs):\n",
        "        self.model = model\n",
        "        self.criterion = criterion\n",
        "        self.optimizer = optimizer\n",
        "        self.epochs = epochs\n",
        "\n",
        "\n",
        "    def fit(self, X, y,class_weights_tensor):\n",
        "        train_data = TensorDataset(torch.Tensor(X), torch.Tensor(y))\n",
        "        trainloader = DataLoader(train_data, batch_size=batch_size, shuffle=True)\n",
        "\n",
        "        for epoch in tqdm(range(self.epochs)):\n",
        "            self.model.train()\n",
        "            for inputs, labels in trainloader:\n",
        "                inputs, labels = inputs.to(device), labels.long().to(device)\n",
        "\n",
        "                self.optimizer.zero_grad()\n",
        "\n",
        "                # Permute dimensions for PyTorch format\n",
        "                inputs = inputs.permute(0, 3, 1, 2)\n",
        "\n",
        "                outputs = self.model(inputs)\n",
        "                if class_weights_tensor is not None:\n",
        "                    loss = F.cross_entropy(outputs, labels, weight=class_weights_tensor)\n",
        "                else:\n",
        "                    loss = F.cross_entropy(outputs, labels)\n",
        "\n",
        "                loss.backward()\n",
        "                self.optimizer.step()\n",
        "\n",
        "    def predict(self, X):\n",
        "        self.model.eval()\n",
        "        with torch.no_grad():\n",
        "            inputs = torch.Tensor(X).to(device)\n",
        "            # Permute dimensions for PyTorch format\n",
        "            inputs = inputs.permute(0, 3, 1, 2)\n",
        "            outputs = self.model(inputs)\n",
        "            _, preds = torch.max(outputs, 1)\n",
        "        return preds.cpu().numpy()\n",
        "\n",
        "\n",
        "# Set up hyperparameter search space\n",
        "param_grid = {\n",
        "    'hidden_size': [256, 512],\n",
        "    'dropout': [0.2, 0.5]\n",
        "}\n",
        "\n",
        "# Use StratifiedKFold for cross-validation\n",
        "skf = StratifiedKFold(n_splits=3, shuffle=True, random_state=42)\n",
        "\n",
        "\n",
        "best_model = None\n",
        "best_accuracy = 0.0\n",
        "\n",
        "for params in product(param_grid['hidden_size'], param_grid['dropout']):\n",
        "    hidden_size, dropout = params\n",
        "    model = create_model(hidden_size=hidden_size, dropout=dropout).to(device)\n",
        "    wrapper = PyTorchClassifierWrapper(model, nn.CrossEntropyLoss(), optimizer, epochs=5)\n",
        "\n",
        "    # Train and evaluate the model\n",
        "    for train_index, val_index in skf.split(array_train, array_train_label):\n",
        "        X_train, X_val = array_train[train_index], array_train[val_index]\n",
        "        y_train, y_val = array_train_label[train_index], array_train_label[val_index]\n",
        "\n",
        "        model = create_model().to(device)\n",
        "        optimizer = optim.Adam(model.parameters())\n",
        "        class_weights_tensor = class_weights_tensor.to(device)\n",
        "        wrapper = PyTorchClassifierWrapper(model, nn.CrossEntropyLoss(weight=class_weights_tensor), optimizer, epochs=5)\n",
        "        wrapper.fit(X_train, y_train, class_weights_tensor)\n",
        "        predictions = wrapper.predict(X_val)\n",
        "        accuracy = np.mean(predictions == y_val)\n",
        "\n",
        "        if accuracy > best_accuracy:\n",
        "            best_accuracy = accuracy\n",
        "            best_model = copy.deepcopy(wrapper)"
      ],
      "metadata": {
        "colab": {
          "base_uri": "https://localhost:8080/"
        },
        "outputId": "5b3d2da5-299c-4588-ceab-f38a69b22f72",
        "id": "L6BoQL0BKZPa"
      },
      "execution_count": null,
      "outputs": [
        {
          "output_type": "stream",
          "name": "stderr",
          "text": [
            "100%|██████████| 5/5 [00:13<00:00,  2.68s/it]\n",
            "100%|██████████| 5/5 [00:13<00:00,  2.65s/it]\n",
            "100%|██████████| 5/5 [00:13<00:00,  2.64s/it]\n",
            "100%|██████████| 5/5 [00:13<00:00,  2.61s/it]\n",
            "100%|██████████| 5/5 [00:13<00:00,  2.61s/it]\n",
            "100%|██████████| 5/5 [00:13<00:00,  2.62s/it]\n",
            "100%|██████████| 5/5 [00:13<00:00,  2.63s/it]\n",
            "100%|██████████| 5/5 [00:13<00:00,  2.63s/it]\n",
            "100%|██████████| 5/5 [00:13<00:00,  2.63s/it]\n",
            "100%|██████████| 5/5 [00:13<00:00,  2.64s/it]\n",
            "100%|██████████| 5/5 [00:13<00:00,  2.63s/it]\n",
            "100%|██████████| 5/5 [00:13<00:00,  2.64s/it]\n"
          ]
        }
      ]
    },
    {
      "cell_type": "code",
      "source": [
        "# Extract the best hyperparameters\n",
        "best_hidden_size = best_model.model.hidden_size\n",
        "best_dropout = best_model.model.dropout\n",
        "\n",
        "print(\"Best Hyperparameters - Hidden Size: {}, Dropout: {}\".format(best_hidden_size, best_dropout))\n",
        "print(\"Best Validation Accuracy: \", best_accuracy)\n"
      ],
      "metadata": {
        "colab": {
          "base_uri": "https://localhost:8080/"
        },
        "outputId": "3ab5a3a5-29e2-4176-dc92-ffa3b074bb8d",
        "id": "oaeHQqV_Keic"
      },
      "execution_count": null,
      "outputs": [
        {
          "output_type": "stream",
          "name": "stdout",
          "text": [
            "Best Hyperparameters - Hidden Size: 512, Dropout: 0.2\n",
            "Best Validation Accuracy:  0.6893317702227433\n"
          ]
        }
      ]
    },
    {
      "cell_type": "code",
      "source": [
        "from google.colab import drive\n",
        "drive.mount('/content/drive')"
      ],
      "metadata": {
        "colab": {
          "base_uri": "https://localhost:8080/"
        },
        "id": "_bdHi08WPWOl",
        "outputId": "49dc5e83-23dd-48ad-f5a8-b553f1337134"
      },
      "execution_count": null,
      "outputs": [
        {
          "output_type": "stream",
          "name": "stdout",
          "text": [
            "Drive already mounted at /content/drive; to attempt to forcibly remount, call drive.mount(\"/content/drive\", force_remount=True).\n"
          ]
        }
      ]
    },
    {
      "cell_type": "code",
      "source": [
        "from sklearn.metrics import precision_score, recall_score, f1_score, accuracy_score\n",
        "\n",
        "# Train the final model using the best hyperparameters on the entire training set\n",
        "final_model = create_model(hidden_size=best_hidden_size, dropout=best_dropout).to(device)\n",
        "final_optimizer = optim.Adam(final_model.parameters())  # Create optimizer for the final model\n",
        "final_wrapper = PyTorchClassifierWrapper(final_model, nn.CrossEntropyLoss(), final_optimizer, epochs=10)\n",
        "\n",
        "# Train on the entire training set\n",
        "final_wrapper.fit(array_train, array_train_label,class_weights_tensor)\n",
        "\n",
        "# Make predictions on the test set\n",
        "test_predictions = final_wrapper.predict(array_test)\n",
        "test_accuracy = np.mean(test_predictions == array_test_label)\n",
        "precision = precision_score(array_test_label, test_predictions, average='weighted')\n",
        "recall = recall_score(array_test_label, test_predictions, average='weighted')\n",
        "f1 = f1_score(array_test_label, test_predictions, average='weighted')\n",
        "\n",
        "print(\"Final Model Test Accuracy:\", test_accuracy)\n",
        "print(\"Final Model Precision:\", precision)\n",
        "print(\"Final Model Recall:\", recall)\n",
        "print(\"Final Model F1 Score:\", f1)"
      ],
      "metadata": {
        "colab": {
          "base_uri": "https://localhost:8080/"
        },
        "outputId": "2bf1df38-2b6c-4994-d24d-08f594f48d34",
        "id": "Qy1GgaXIKiNN"
      },
      "execution_count": null,
      "outputs": [
        {
          "output_type": "stream",
          "name": "stderr",
          "text": [
            "100%|██████████| 10/10 [00:39<00:00,  3.97s/it]\n"
          ]
        },
        {
          "output_type": "stream",
          "name": "stdout",
          "text": [
            "Final Model Test Accuracy: 0.81171875\n",
            "Final Model Precision: 0.8156731727254257\n",
            "Final Model Recall: 0.81171875\n",
            "Final Model F1 Score: 0.8126225591488471\n"
          ]
        }
      ]
    },
    {
      "cell_type": "code",
      "source": [
        "# Confusion Matrix\n",
        "from sklearn.metrics import confusion_matrix, ConfusionMatrixDisplay\n",
        "import numpy as np\n",
        "import seaborn as sns\n",
        "import matplotlib.pyplot as plt\n",
        "\n",
        "cm = confusion_matrix()\n",
        "disp = ConfusionMatrixDisplay(array_test_label, test_predictions)\n",
        "labels = ['0', '1', '2', '3']\n",
        "\n",
        "conf_matrix = ConfusionMatrixDisplay(array_test_label, test_predictions)\n",
        "class_labels = ['0', '1', '2', '3']  # Replace with your actual class labels\n",
        "\n",
        "\n",
        "# Plot Confusion Matrix\n",
        "plt.figure(figsize=(8, 6))\n",
        "sns.heatmap(conf_matrix, annot=True, fmt=\"d\", cmap=\"Blues\", xticklabels=class_labels, yticklabels=class_labels)\n",
        "plt.xlabel(\"Predicted Labels\")\n",
        "plt.ylabel(\"True Labels\")\n",
        "plt.show()\n"
      ],
      "metadata": {
        "colab": {
          "base_uri": "https://localhost:8080/",
          "height": 564
        },
        "outputId": "ec447611-a135-4bd8-f5ce-ad81ebee9ed0",
        "id": "DHUs_vcNKlkl"
      },
      "execution_count": null,
      "outputs": [
        {
          "output_type": "display_data",
          "data": {
            "text/plain": [
              "<Figure size 800x600 with 2 Axes>"
            ],
            "image/png": "[encoded data removed]"
          },
          "metadata": {}
        }
      ]
    },
    {
      "cell_type": "code",
      "source": [
        "# Save the PyTorch model to Google Drive\n",
        "torch.save(best_model.model.state_dict(), '/content/drive/MyDrive/cnn alzheimer/weight_model2.pth')"
      ],
      "metadata": {
        "id": "6m4xZo-XP-p9"
      },
      "execution_count": null,
      "outputs": []
    },
    {
      "cell_type": "code",
      "source": [],
      "metadata": {
        "id": "EvcpWOzMP8bH"
      },
      "execution_count": null,
      "outputs": []
    },
    {
      "cell_type": "code",
      "source": [],
      "metadata": {
        "id": "JP25M2nsP8d0"
      },
      "execution_count": null,
      "outputs": []
    },
    {
      "cell_type": "code",
      "source": [],
      "metadata": {
        "id": "-SkHVy8OP8gL"
      },
      "execution_count": null,
      "outputs": []
    },
    {
      "cell_type": "code",
      "source": [],
      "metadata": {
        "id": "rEa8_r3XP8ik"
      },
      "execution_count": null,
      "outputs": []
    },
    {
      "cell_type": "code",
      "source": [],
      "metadata": {
        "id": "x1dkOA2GP8lH"
      },
      "execution_count": null,
      "outputs": []
    },
    {
      "cell_type": "code",
      "source": [],
      "metadata": {
        "id": "wf2q42OhP8nt"
      },
      "execution_count": null,
      "outputs": []
    },
    {
      "cell_type": "code",
      "source": [],
      "metadata": {
        "id": "TGihzAhGP8qE"
      },
      "execution_count": null,
      "outputs": []
    },
    {
      "cell_type": "code",
      "source": [],
      "metadata": {
        "id": "wyK81YnVP8st"
      },
      "execution_count": null,
      "outputs": []
    },
    {
      "cell_type": "code",
      "source": [
        "import torch\n",
        "import torch.nn as nn\n",
        "from torchvision import transforms\n",
        "\n",
        "# Define the model class\n",
        "class YourModel(nn.Module):\n",
        "    def __init__(self, hidden_size=512, dropout=0.2):\n",
        "        super(YourModel, self).__init__()\n",
        "        self.model = nn.Sequential(\n",
        "            nn.Conv2d(3, 32, kernel_size=3, padding=1),\n",
        "            nn.ReLU(),\n",
        "            nn.MaxPool2d(2, 2),\n",
        "\n",
        "            nn.Conv2d(32, 64, kernel_size=3, padding=1),\n",
        "            nn.ReLU(),\n",
        "            nn.MaxPool2d(2, 2),\n",
        "\n",
        "            nn.Conv2d(64, 128, kernel_size=3, padding=1),\n",
        "            nn.ReLU(),\n",
        "            nn.MaxPool2d(2, 2),\n",
        "\n",
        "            nn.Flatten(),\n",
        "\n",
        "            nn.Linear(128 * 16 * 16, hidden_size),\n",
        "            nn.ReLU(),\n",
        "            nn.Dropout(dropout),\n",
        "\n",
        "            nn.Linear(hidden_size, 4),  # Adjust the number of output classes here\n",
        "            nn.Softmax(dim=1)\n",
        "        )\n",
        "        # Store hyperparameters as attributes\n",
        "        self.hidden_size = hidden_size\n",
        "        self.dropout = dropout\n",
        "\n",
        "    def forward(self, x):\n",
        "        return self.model(x)\n",
        "\n",
        "# Instantiate the model\n",
        "model = YourModel()\n",
        "\n",
        "# Load the model's state dictionary\n",
        "model.load_state_dict(torch.load('/content/drive/MyDrive/cnn alzheimer/weight_model1.pth'))\n",
        "\n",
        "# Set the model to evaluation mode\n",
        "model.eval()"
      ],
      "metadata": {
        "colab": {
          "base_uri": "https://localhost:8080/",
          "height": 453
        },
        "id": "wreYc3g6IT1H",
        "outputId": "fdeddffc-67d4-4d50-d365-9e9084f40c47"
      },
      "execution_count": null,
      "outputs": [
        {
          "output_type": "error",
          "ename": "RuntimeError",
          "evalue": "Error(s) in loading state_dict for YourModel:\n\tMissing key(s) in state_dict: \"model.0.weight\", \"model.0.bias\", \"model.3.weight\", \"model.3.bias\", \"model.6.weight\", \"model.6.bias\", \"model.10.weight\", \"model.10.bias\", \"model.13.weight\", \"model.13.bias\". \n\tUnexpected key(s) in state_dict: \"0.weight\", \"0.bias\", \"3.weight\", \"3.bias\", \"6.weight\", \"6.bias\", \"10.weight\", \"10.bias\", \"13.weight\", \"13.bias\". ",
          "traceback": [
            "\u001b[0;31m---------------------------------------------------------------------------\u001b[0m",
            "\u001b[0;31mRuntimeError\u001b[0m                              Traceback (most recent call last)",
            "\u001b[0;32m<ipython-input-2-29990c0a3845>\u001b[0m in \u001b[0;36m<cell line: 42>\u001b[0;34m()\u001b[0m\n\u001b[1;32m     40\u001b[0m \u001b[0;34m\u001b[0m\u001b[0m\n\u001b[1;32m     41\u001b[0m \u001b[0;31m# Load the model's state dictionary\u001b[0m\u001b[0;34m\u001b[0m\u001b[0;34m\u001b[0m\u001b[0m\n\u001b[0;32m---> 42\u001b[0;31m \u001b[0mmodel\u001b[0m\u001b[0;34m.\u001b[0m\u001b[0mload_state_dict\u001b[0m\u001b[0;34m(\u001b[0m\u001b[0mtorch\u001b[0m\u001b[0;34m.\u001b[0m\u001b[0mload\u001b[0m\u001b[0;34m(\u001b[0m\u001b[0;34m'/content/drive/MyDrive/cnn alzheimer/weight_model1.pth'\u001b[0m\u001b[0;34m)\u001b[0m\u001b[0;34m)\u001b[0m\u001b[0;34m\u001b[0m\u001b[0;34m\u001b[0m\u001b[0m\n\u001b[0m\u001b[1;32m     43\u001b[0m \u001b[0;34m\u001b[0m\u001b[0m\n\u001b[1;32m     44\u001b[0m \u001b[0;31m# Set the model to evaluation mode\u001b[0m\u001b[0;34m\u001b[0m\u001b[0;34m\u001b[0m\u001b[0m\n",
            "\u001b[0;32m/usr/local/lib/python3.10/dist-packages/torch/nn/modules/module.py\u001b[0m in \u001b[0;36mload_state_dict\u001b[0;34m(self, state_dict, strict, assign)\u001b[0m\n\u001b[1;32m   2150\u001b[0m \u001b[0;34m\u001b[0m\u001b[0m\n\u001b[1;32m   2151\u001b[0m         \u001b[0;32mif\u001b[0m \u001b[0mlen\u001b[0m\u001b[0;34m(\u001b[0m\u001b[0merror_msgs\u001b[0m\u001b[0;34m)\u001b[0m \u001b[0;34m>\u001b[0m \u001b[0;36m0\u001b[0m\u001b[0;34m:\u001b[0m\u001b[0;34m\u001b[0m\u001b[0;34m\u001b[0m\u001b[0m\n\u001b[0;32m-> 2152\u001b[0;31m             raise RuntimeError('Error(s) in loading state_dict for {}:\\n\\t{}'.format(\n\u001b[0m\u001b[1;32m   2153\u001b[0m                                self.__class__.__name__, \"\\n\\t\".join(error_msgs)))\n\u001b[1;32m   2154\u001b[0m         \u001b[0;32mreturn\u001b[0m \u001b[0m_IncompatibleKeys\u001b[0m\u001b[0;34m(\u001b[0m\u001b[0mmissing_keys\u001b[0m\u001b[0;34m,\u001b[0m \u001b[0munexpected_keys\u001b[0m\u001b[0;34m)\u001b[0m\u001b[0;34m\u001b[0m\u001b[0;34m\u001b[0m\u001b[0m\n",
            "\u001b[0;31mRuntimeError\u001b[0m: Error(s) in loading state_dict for YourModel:\n\tMissing key(s) in state_dict: \"model.0.weight\", \"model.0.bias\", \"model.3.weight\", \"model.3.bias\", \"model.6.weight\", \"model.6.bias\", \"model.10.weight\", \"model.10.bias\", \"model.13.weight\", \"model.13.bias\". \n\tUnexpected key(s) in state_dict: \"0.weight\", \"0.bias\", \"3.weight\", \"3.bias\", \"6.weight\", \"6.bias\", \"10.weight\", \"10.bias\", \"13.weight\", \"13.bias\". "
          ]
        }
      ]
    },
    {
      "cell_type": "code",
      "source": [
        "# Load the model's state dictionary\n",
        "state_dict = torch.load('/content/drive/MyDrive/cnn alzheimer/weight_model1.pth')\n",
        "\n",
        "# Filter out keys that are not in the current model\n",
        "state_dict = {k: v for k, v in state_dict.items() if k in model.state_dict()}\n",
        "\n",
        "# Load the filtered state dictionary\n",
        "model.load_state_dict(state_dict, strict=False)\n"
      ],
      "metadata": {
        "colab": {
          "base_uri": "https://localhost:8080/"
        },
        "id": "-1eFvFxsJ1Hm",
        "outputId": "e9022f70-a444-4fc6-a4ba-de39fd7cc3d4"
      },
      "execution_count": null,
      "outputs": [
        {
          "output_type": "execute_result",
          "data": {
            "text/plain": [
              "_IncompatibleKeys(missing_keys=['model.0.weight', 'model.0.bias', 'model.3.weight', 'model.3.bias', 'model.6.weight', 'model.6.bias', 'model.10.weight', 'model.10.bias', 'model.13.weight', 'model.13.bias'], unexpected_keys=[])"
            ]
          },
          "metadata": {},
          "execution_count": 3
        }
      ]
    },
    {
      "cell_type": "code",
      "source": [
        "# Load the model's state dictionary\n",
        "state_dict = torch.load('/content/drive/MyDrive/cnn alzheimer/weight_model1.pth')\n",
        "\n",
        "# Print the keys\n",
        "print(state_dict.keys())"
      ],
      "metadata": {
        "colab": {
          "base_uri": "https://localhost:8080/"
        },
        "id": "TdJ0-EwPKslF",
        "outputId": "9c9c5a94-de14-4da7-8c9c-1400ae1cf2b3"
      },
      "execution_count": null,
      "outputs": [
        {
          "output_type": "stream",
          "name": "stdout",
          "text": [
            "odict_keys(['0.weight', '0.bias', '3.weight', '3.bias', '6.weight', '6.bias', '10.weight', '10.bias', '13.weight', '13.bias'])\n"
          ]
        }
      ]
    },
    {
      "cell_type": "code",
      "source": [
        "import torch\n",
        "import torch.nn as nn\n",
        "\n",
        "class YourModel(nn.Module):\n",
        "    def __init__(self, hidden_size=512, dropout=0.2):\n",
        "        super(YourModel, self).__init__()\n",
        "        self.model = nn.Sequential(\n",
        "            nn.Conv2d(3, 32, kernel_size=3, padding=1),\n",
        "            nn.ReLU(),\n",
        "            nn.MaxPool2d(2, 2),\n",
        "\n",
        "            nn.Conv2d(32, 64, kernel_size=3, padding=1),\n",
        "            nn.ReLU(),\n",
        "            nn.MaxPool2d(2, 2),\n",
        "\n",
        "            nn.Conv2d(64, 128, kernel_size=3, padding=1),\n",
        "            nn.ReLU(),\n",
        "            nn.MaxPool2d(2, 2),\n",
        "\n",
        "            nn.Flatten(),\n",
        "\n",
        "            nn.Linear(128 * 16 * 16, hidden_size),\n",
        "            nn.ReLU(),\n",
        "            nn.Dropout(dropout),\n",
        "\n",
        "            nn.Linear(hidden_size, 4),  # Adjust the number of output classes here\n",
        "            nn.Softmax(dim=1)\n",
        "        )\n",
        "        # Store hyperparameters as attributes\n",
        "        self.hidden_size = hidden_size\n",
        "        self.dropout = dropout\n",
        "\n",
        "    def forward(self, x):\n",
        "        return self.model(x)\n",
        "\n",
        "# Instantiate the modified model\n",
        "model = YourModel()\n",
        "\n",
        "# Load the state dictionary\n",
        "state_dict = torch.load('/content/drive/MyDrive/cnn alzheimer/weight_model1.pth')\n",
        "\n",
        "# Filter out keys that are not in the current model\n",
        "state_dict = {k: v for k, v in state_dict.items() if k in model.state_dict()}\n",
        "\n",
        "# Load the filtered state dictionary\n",
        "model.load_state_dict(state_dict, strict=False)\n",
        "\n",
        "# Set the model to evaluation mode\n",
        "model.eval()\n"
      ],
      "metadata": {
        "colab": {
          "base_uri": "https://localhost:8080/"
        },
        "id": "DHPO53RVK_CF",
        "outputId": "0be92618-4314-4156-ba33-ef5587d36f57"
      },
      "execution_count": null,
      "outputs": [
        {
          "output_type": "execute_result",
          "data": {
            "text/plain": [
              "YourModel(\n",
              "  (model): Sequential(\n",
              "    (0): Conv2d(3, 32, kernel_size=(3, 3), stride=(1, 1), padding=(1, 1))\n",
              "    (1): ReLU()\n",
              "    (2): MaxPool2d(kernel_size=2, stride=2, padding=0, dilation=1, ceil_mode=False)\n",
              "    (3): Conv2d(32, 64, kernel_size=(3, 3), stride=(1, 1), padding=(1, 1))\n",
              "    (4): ReLU()\n",
              "    (5): MaxPool2d(kernel_size=2, stride=2, padding=0, dilation=1, ceil_mode=False)\n",
              "    (6): Conv2d(64, 128, kernel_size=(3, 3), stride=(1, 1), padding=(1, 1))\n",
              "    (7): ReLU()\n",
              "    (8): MaxPool2d(kernel_size=2, stride=2, padding=0, dilation=1, ceil_mode=False)\n",
              "    (9): Flatten(start_dim=1, end_dim=-1)\n",
              "    (10): Linear(in_features=32768, out_features=512, bias=True)\n",
              "    (11): ReLU()\n",
              "    (12): Dropout(p=0.2, inplace=False)\n",
              "    (13): Linear(in_features=512, out_features=4, bias=True)\n",
              "    (14): Softmax(dim=1)\n",
              "  )\n",
              ")"
            ]
          },
          "metadata": {},
          "execution_count": 19
        }
      ]
    },
    {
      "cell_type": "code",
      "source": [
        "# Make predictions on the test set\n",
        "# Convert NumPy array to PyTorch tensor\n",
        "# Convert NumPy array to PyTorch tensor and transpose the channels\n",
        "\n",
        "from sklearn.metrics import precision_score, recall_score, f1_score, accuracy_score\n",
        "\n",
        "array_test_tensor = torch.tensor(array_test.transpose(0, 3, 1, 2), dtype=torch.float32).to(device)\n",
        "# Move the model to the GPU (assuming device is 'cuda')\n",
        "model = model.to(device)\n",
        "\n",
        "# Make predictions on the test set\n",
        "with torch.no_grad():\n",
        "    test_predictions = model(array_test_tensor)\n",
        "    _, test_predictions = torch.max(test_predictions, 1)\n",
        "\n",
        "# Convert predictions to numpy array\n",
        "test_predictions = test_predictions.cpu().numpy()\n",
        "\n",
        "# Evaluate the model\n",
        "test_accuracy = accuracy_score(array_test_label, test_predictions)\n",
        "precision = precision_score(array_test_label, test_predictions, average='weighted')\n",
        "recall = recall_score(array_test_label, test_predictions, average='weighted')\n",
        "f1 = f1_score(array_test_label, test_predictions, average='weighted')\n",
        "\n",
        "print(\"Final Model Test Accuracy:\", test_accuracy)\n",
        "print(\"Final Model Precision:\", precision)\n",
        "print(\"Final Model Recall:\", recall)\n",
        "print(\"Final Model F1 Score:\", f1)"
      ],
      "metadata": {
        "colab": {
          "base_uri": "https://localhost:8080/"
        },
        "id": "1gPDfKP7LdQE",
        "outputId": "9bc16d25-7e37-40a5-8c93-8d02675f67d2"
      },
      "execution_count": null,
      "outputs": [
        {
          "output_type": "stream",
          "name": "stdout",
          "text": [
            "Final Model Test Accuracy: 0.45703125\n",
            "Final Model Precision: 0.2534221839008288\n",
            "Final Model Recall: 0.45703125\n",
            "Final Model F1 Score: 0.3226095286292655\n"
          ]
        },
        {
          "output_type": "stream",
          "name": "stderr",
          "text": [
            "/usr/local/lib/python3.10/dist-packages/sklearn/metrics/_classification.py:1344: UndefinedMetricWarning: Precision is ill-defined and being set to 0.0 in labels with no predicted samples. Use `zero_division` parameter to control this behavior.\n",
            "  _warn_prf(average, modifier, msg_start, len(result))\n"
          ]
        }
      ]
    },
    {
      "cell_type": "markdown",
      "source": [
        "#no weight"
      ],
      "metadata": {
        "id": "gjR0yO4GFK7C"
      }
    },
    {
      "cell_type": "code",
      "source": [
        "# Define the PyTorch classifier for scikit-learn compatibility\n",
        "\n",
        "import copy\n",
        "from itertools import product\n",
        "from tqdm import tqdm  # Add this line\n",
        "import torch.nn.functional as F\n",
        "\n",
        "class PyTorchClassifierWrapper:\n",
        "    def __init__(self, model, criterion, optimizer, epochs):\n",
        "        self.model = model\n",
        "        self.criterion = criterion\n",
        "        self.optimizer = optimizer\n",
        "        self.epochs = epochs\n",
        "\n",
        "    # def forward(self, x):\n",
        "    #     return self.model(x)\n",
        "\n",
        "    def fit(self, X, y):\n",
        "        train_data = TensorDataset(torch.Tensor(X), torch.Tensor(y))\n",
        "        trainloader = DataLoader(train_data, batch_size=batch_size, shuffle=True)\n",
        "\n",
        "        for epoch in tqdm(range(self.epochs)):\n",
        "            self.model.train()\n",
        "            for inputs, labels in trainloader:\n",
        "                inputs, labels = inputs.to(device), labels.long().to(device)\n",
        "\n",
        "                self.optimizer.zero_grad()\n",
        "\n",
        "                # Permute dimensions for PyTorch format\n",
        "                inputs = inputs.permute(0, 3, 1, 2)\n",
        "\n",
        "                outputs = self.model(inputs)\n",
        "                loss = F.cross_entropy(outputs, labels)\n",
        "\n",
        "                loss.backward()\n",
        "                self.optimizer.step()\n",
        "\n",
        "    def predict(self, X):\n",
        "        self.model.eval()\n",
        "        with torch.no_grad():\n",
        "            inputs = torch.Tensor(X).to(device)\n",
        "            # Permute dimensions for PyTorch format\n",
        "            inputs = inputs.permute(0, 3, 1, 2)\n",
        "            outputs = self.model(inputs)\n",
        "            _, preds = torch.max(outputs, 1)\n",
        "        return preds.cpu().numpy()\n",
        "\n",
        "    # def get_params(self, deep=True):\n",
        "    #     return {'model': copy.deepcopy(self.model),\n",
        "    #             'criterion': copy.deepcopy(self.criterion),\n",
        "    #             'optimizer': copy.deepcopy(self.optimizer),\n",
        "    #             'epochs': self.epochs\n",
        "    #             }\n",
        "\n",
        "# Set up hyperparameter search space\n",
        "param_grid = {\n",
        "    'hidden_size': [256, 512],\n",
        "    'dropout': [0.2, 0.5]\n",
        "}\n",
        "\n",
        "# Use StratifiedKFold for cross-validation\n",
        "skf = StratifiedKFold(n_splits=3, shuffle=True, random_state=42)\n",
        "\n",
        "# Wrap the PyTorch model in a scikit-learn compatible classifier\n",
        "# model = create_model()\n",
        "# pytorch_classifier = PyTorchClassifier(model, nn.CrossEntropyLoss(), optim.Adam(model.parameters()), epochs=5)\n",
        "\n",
        "# Perform grid search with cross-validation\n",
        "# Perform grid search with cross-validation\n",
        "best_model = None\n",
        "best_accuracy = 0.0\n",
        "\n",
        "for params in product(param_grid['hidden_size'], param_grid['dropout']):\n",
        "    hidden_size, dropout = params\n",
        "    model = create_model(hidden_size=hidden_size, dropout=dropout).to(device)\n",
        "    wrapper = PyTorchClassifierWrapper(model, nn.CrossEntropyLoss(), optimizer, epochs=5)\n",
        "\n",
        "    # Train and evaluate the model\n",
        "    for train_index, val_index in skf.split(array_train, array_train_label):\n",
        "        X_train, X_val = array_train[train_index], array_train[val_index]\n",
        "        y_train, y_val = array_train_label[train_index], array_train_label[val_index]\n",
        "\n",
        "        #wrapper = PyTorchClassifierWrapper(model, nn.CrossEntropyLoss(weight=class_weights_tensor), optimizer, epochs=5)\n",
        "        wrapper.fit(X_train, y_train)\n",
        "        predictions = wrapper.predict(X_val)\n",
        "        accuracy = np.mean(predictions == y_val)\n",
        "        # wrapper = PyTorchClassifierWrapper(create_model(), optimizer, epochs=5)\n",
        "        # wrapper.fit(X_train, y_train, class_weights_tensor)\n",
        "        # predictions = wrapper.predict(X_val)\n",
        "        # accuracy = np.mean(predictions == y_val)\n",
        "\n",
        "        if accuracy > best_accuracy:\n",
        "            best_accuracy = accuracy\n",
        "            best_model = copy.deepcopy(wrapper)\n",
        "# grid_search = GridSearchCV(estimator=pytorch_classifier, param_grid=param_grid, scoring='accuracy', cv=skf)\n",
        "# grid_search.fit(array_train, array_train_label)\n",
        "\n",
        "# Get the best hyperparameters\n",
        "# best_params = grid_search.best_params_\n",
        "# best_accuracy = grid_search.best_score_\n",
        "# best_params = {'hidden_size': best_model.model[12].out_features, 'dropout': best_model.model[10].p}\n",
        "# # Display the best hyperparameters and corresponding accuracy\n",
        "# print(\"Best Accuracy: %f using %s\" % (best_accuracy, best_params))"
      ],
      "metadata": {
        "colab": {
          "base_uri": "https://localhost:8080/"
        },
        "id": "0WG0N-OxHWDg",
        "outputId": "a9c00ba9-89e8-4a7c-a140-f8481d1c3cd4"
      },
      "execution_count": null,
      "outputs": [
        {
          "output_type": "stream",
          "name": "stderr",
          "text": [
            "100%|██████████| 5/5 [00:12<00:00,  2.57s/it]\n",
            "100%|██████████| 5/5 [00:11<00:00,  2.40s/it]\n",
            "100%|██████████| 5/5 [00:10<00:00,  2.13s/it]\n",
            "100%|██████████| 5/5 [00:10<00:00,  2.14s/it]\n",
            "100%|██████████| 5/5 [00:10<00:00,  2.15s/it]\n",
            "100%|██████████| 5/5 [00:10<00:00,  2.12s/it]\n",
            "100%|██████████| 5/5 [00:10<00:00,  2.19s/it]\n",
            "100%|██████████| 5/5 [00:10<00:00,  2.19s/it]\n",
            "100%|██████████| 5/5 [00:11<00:00,  2.36s/it]\n",
            "100%|██████████| 5/5 [00:10<00:00,  2.19s/it]\n",
            "100%|██████████| 5/5 [00:11<00:00,  2.20s/it]\n",
            "100%|██████████| 5/5 [00:10<00:00,  2.20s/it]\n"
          ]
        }
      ]
    },
    {
      "cell_type": "code",
      "source": [
        "# Extract the best hyperparameters\n",
        "best_hidden_size = best_model.model.hidden_size\n",
        "best_dropout = best_model.model.dropout\n",
        "\n",
        "print(\"Best Hyperparameters - Hidden Size: {}, Dropout: {}\".format(best_hidden_size, best_dropout))\n",
        "print(\"Best Validation Accuracy: \", best_accuracy)\n"
      ],
      "metadata": {
        "colab": {
          "base_uri": "https://localhost:8080/"
        },
        "id": "9eLZ5T7-HYay",
        "outputId": "65cfa282-70fa-4d5f-b832-aef588a115bd"
      },
      "execution_count": null,
      "outputs": [
        {
          "output_type": "stream",
          "name": "stdout",
          "text": [
            "Best Hyperparameters - Hidden Size: 512, Dropout: 0.2\n",
            "Best Validation Accuracy:  0.3481828839390387\n"
          ]
        }
      ]
    },
    {
      "cell_type": "code",
      "source": [
        "from sklearn.metrics import precision_score, recall_score, f1_score, accuracy_score\n",
        "\n",
        "# Train the final model using the best hyperparameters on the entire training set\n",
        "final_model = create_model(hidden_size=best_hidden_size, dropout=best_dropout).to(device)\n",
        "final_optimizer = optim.Adam(final_model.parameters())  # Create optimizer for the final model\n",
        "final_wrapper = PyTorchClassifierWrapper(final_model, nn.CrossEntropyLoss(), final_optimizer, epochs=5)\n",
        "\n",
        "# Train on the entire training set\n",
        "final_wrapper.fit(array_train, array_train_label)\n",
        "\n",
        "# Make predictions on the test set\n",
        "test_predictions = final_wrapper.predict(array_test)\n",
        "test_accuracy = np.mean(test_predictions == array_test_label)\n",
        "precision = precision_score(array_test_label, test_predictions, average='weighted')\n",
        "recall = recall_score(array_test_label, test_predictions, average='weighted')\n",
        "f1 = f1_score(array_test_label, test_predictions, average='weighted')\n",
        "\n",
        "print(\"Final Model Test Accuracy:\", test_accuracy)\n",
        "print(\"Final Model Precision:\", precision)\n",
        "print(\"Final Model Recall:\", recall)\n",
        "print(\"Final Model F1 Score:\", f1)"
      ],
      "metadata": {
        "colab": {
          "base_uri": "https://localhost:8080/"
        },
        "id": "zUCj6kesHbGt",
        "outputId": "f8d62fde-8479-4810-b6d2-a6f56887a61d"
      },
      "execution_count": null,
      "outputs": [
        {
          "output_type": "stream",
          "name": "stderr",
          "text": [
            "100%|██████████| 5/5 [00:19<00:00,  3.98s/it]\n"
          ]
        },
        {
          "output_type": "stream",
          "name": "stdout",
          "text": [
            "Final Model Test Accuracy: 0.4953125\n",
            "Final Model Precision: 0.24533447265625\n",
            "Final Model Recall: 0.4953125\n",
            "Final Model F1 Score: 0.3281380616509927\n"
          ]
        },
        {
          "output_type": "stream",
          "name": "stderr",
          "text": [
            "/usr/local/lib/python3.10/dist-packages/sklearn/metrics/_classification.py:1344: UndefinedMetricWarning: Precision is ill-defined and being set to 0.0 in labels with no predicted samples. Use `zero_division` parameter to control this behavior.\n",
            "  _warn_prf(average, modifier, msg_start, len(result))\n"
          ]
        }
      ]
    },
    {
      "cell_type": "code",
      "source": [
        "# Confusion Matrix\n",
        "from sklearn.metrics import confusion_matrix\n",
        "import seaborn as sns\n",
        "import matplotlib.pyplot as plt\n",
        "conf_matrix = confusion_matrix(array_test_label, test_predictions)\n",
        "class_labels = ['0', '1', '2', '3']  # Replace with your actual class labels\n",
        "\n",
        "# Plot Confusion Matrix\n",
        "plt.figure(figsize=(8, 6))\n",
        "sns.heatmap(conf_matrix, annot=True, fmt=\"d\", cmap=\"Blues\", xticklabels=class_labels, yticklabels=class_labels)\n",
        "plt.title(\"Confusion Matrix\")\n",
        "plt.xlabel(\"Predicted Labels\")\n",
        "plt.ylabel(\"True Labels\")\n",
        "plt.show()\n"
      ],
      "metadata": {
        "colab": {
          "base_uri": "https://localhost:8080/",
          "height": 564
        },
        "id": "T2i2FdpBHhXB",
        "outputId": "bbb902df-410d-4558-aaef-6f86d796481f"
      },
      "execution_count": null,
      "outputs": [
        {
          "output_type": "display_data",
          "data": {
            "text/plain": [
              "<Figure size 800x600 with 2 Axes>"
            ],
            "image/png": "[encoded data removed]"
          },
          "metadata": {}
        }
      ]
    },
    {
      "cell_type": "code",
      "source": [
        "from google.colab import drive\n",
        "drive.mount('/content/drive')"
      ],
      "metadata": {
        "colab": {
          "base_uri": "https://localhost:8080/"
        },
        "id": "opjFpqfmQOl_",
        "outputId": "155090fa-5019-4a35-8a12-dd9201afd4b6"
      },
      "execution_count": null,
      "outputs": [
        {
          "output_type": "stream",
          "name": "stdout",
          "text": [
            "Mounted at /content/drive\n"
          ]
        }
      ]
    },
    {
      "cell_type": "code",
      "source": [],
      "metadata": {
        "id": "zY1XRe9GSQvg"
      },
      "execution_count": null,
      "outputs": []
    },
    {
      "cell_type": "code",
      "source": [
        "# Save the PyTorch model to Google Drive\n",
        "torch.save(best_model.model.state_dict(), '/content/drive/MyDrive/cnn alzheimer/no_weight.pth')"
      ],
      "metadata": {
        "id": "Oxo-wXE7QZvJ"
      },
      "execution_count": null,
      "outputs": []
    },
    {
      "cell_type": "code",
      "source": [
        "model_weights_path = '/content/drive/MyDrive/path/to/save/model.pth'\n",
        "model = create_model()  # Replace this with the actual model creation code\n",
        "model.load_state_dict(torch.load(model_weights_path))"
      ],
      "metadata": {
        "id": "5a66q4pvSd_0"
      },
      "execution_count": null,
      "outputs": []
    },
    {
      "cell_type": "code",
      "source": [
        "# Instantiate the model with the same architecture\n",
        "model1 = create_model(hidden_size=best_params['hidden_size'], dropout=best_params['dropout']).to(device)\n",
        "\n",
        "# Load the saved weights\n",
        "model1.load_state_dict(torch.load('/path/to/save/model.pth'))\n",
        "\n",
        "# Set the model to evaluation mode\n",
        "model1.eval()\n",
        "\n",
        "# Now you can use this model for predictions on new data\n"
      ],
      "metadata": {
        "colab": {
          "base_uri": "https://localhost:8080/",
          "height": 245
        },
        "id": "8YfbLGgVTUR1",
        "outputId": "b9429d00-5d1c-42a7-e86f-752ec6d14674"
      },
      "execution_count": null,
      "outputs": [
        {
          "output_type": "error",
          "ename": "NameError",
          "evalue": "name 'best_params' is not defined",
          "traceback": [
            "\u001b[0;31m---------------------------------------------------------------------------\u001b[0m",
            "\u001b[0;31mNameError\u001b[0m                                 Traceback (most recent call last)",
            "\u001b[0;32m<ipython-input-17-6ca050d8acf5>\u001b[0m in \u001b[0;36m<cell line: 2>\u001b[0;34m()\u001b[0m\n\u001b[1;32m      1\u001b[0m \u001b[0;31m# Instantiate the model with the same architecture\u001b[0m\u001b[0;34m\u001b[0m\u001b[0;34m\u001b[0m\u001b[0m\n\u001b[0;32m----> 2\u001b[0;31m \u001b[0mmodel1\u001b[0m \u001b[0;34m=\u001b[0m \u001b[0mcreate_model\u001b[0m\u001b[0;34m(\u001b[0m\u001b[0mhidden_size\u001b[0m\u001b[0;34m=\u001b[0m\u001b[0mbest_params\u001b[0m\u001b[0;34m[\u001b[0m\u001b[0;34m'hidden_size'\u001b[0m\u001b[0;34m]\u001b[0m\u001b[0;34m,\u001b[0m \u001b[0mdropout\u001b[0m\u001b[0;34m=\u001b[0m\u001b[0mbest_params\u001b[0m\u001b[0;34m[\u001b[0m\u001b[0;34m'dropout'\u001b[0m\u001b[0;34m]\u001b[0m\u001b[0;34m)\u001b[0m\u001b[0;34m.\u001b[0m\u001b[0mto\u001b[0m\u001b[0;34m(\u001b[0m\u001b[0mdevice\u001b[0m\u001b[0;34m)\u001b[0m\u001b[0;34m\u001b[0m\u001b[0;34m\u001b[0m\u001b[0m\n\u001b[0m\u001b[1;32m      3\u001b[0m \u001b[0;34m\u001b[0m\u001b[0m\n\u001b[1;32m      4\u001b[0m \u001b[0;31m# Load the saved weights\u001b[0m\u001b[0;34m\u001b[0m\u001b[0;34m\u001b[0m\u001b[0m\n\u001b[1;32m      5\u001b[0m \u001b[0mmodel1\u001b[0m\u001b[0;34m.\u001b[0m\u001b[0mload_state_dict\u001b[0m\u001b[0;34m(\u001b[0m\u001b[0mtorch\u001b[0m\u001b[0;34m.\u001b[0m\u001b[0mload\u001b[0m\u001b[0;34m(\u001b[0m\u001b[0;34m'/path/to/save/model.pth'\u001b[0m\u001b[0;34m)\u001b[0m\u001b[0;34m)\u001b[0m\u001b[0;34m\u001b[0m\u001b[0;34m\u001b[0m\u001b[0m\n",
            "\u001b[0;31mNameError\u001b[0m: name 'best_params' is not defined"
          ]
        }
      ]
    }
  ]
}